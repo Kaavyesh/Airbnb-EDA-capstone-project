{
  "nbformat": 4,
  "nbformat_minor": 0,
  "metadata": {
    "colab": {
      "provenance": [],
      "collapsed_sections": [
        "K5QZ13OEpz2H",
        "lQ7QKXXCp7Bj",
        "448CDAPjqfQr",
        "t6dVpIINYklI",
        "ijmpgYnKYklI",
        "-JiQyfWJYklI",
        "fge-S5ZAYoAp",
        "85gYPyotYoAp",
        "RoGjAbkUYoAp",
        "4Of9eVA-YrdM",
        "iky9q4vBYrdO",
        "F6T5p64dYrdO",
        "y-Ehk30pYrdP"
      ],
      "include_colab_link": true
    },
    "kernelspec": {
      "name": "python3",
      "display_name": "Python 3"
    },
    "language_info": {
      "name": "python"
    }
  },
  "cells": [
    {
      "cell_type": "markdown",
      "metadata": {
        "id": "view-in-github",
        "colab_type": "text"
      },
      "source": [
        "<a href=\"https://colab.research.google.com/github/Kaavyesh/Airbnb-EDA-capstone-project/blob/main/Airbnb_EDA_capstone_project.ipynb\" target=\"_parent\"><img src=\"https://colab.research.google.com/assets/colab-badge.svg\" alt=\"Open In Colab\"/></a>"
      ]
    },
    {
      "cell_type": "markdown",
      "source": [
        "# **Project Name**    - **Airbnb Exploratory Data Analysis**\n",
        "\n"
      ],
      "metadata": {
        "id": "vncDsAP0Gaoa"
      }
    },
    {
      "cell_type": "markdown",
      "source": [
        "##### **Project Type**    - EDA\n",
        "##### **Contribution**    - Individual\n",
        "##### **Team Member 1 -**  sathuluri kaavyesh poorn anand\n"
      ],
      "metadata": {
        "id": "beRrZCGUAJYm"
      }
    },
    {
      "cell_type": "markdown",
      "source": [],
      "metadata": {
        "id": "tZ89DAwsLAT2"
      }
    },
    {
      "cell_type": "markdown",
      "source": [
        "# **Project Summary -**"
      ],
      "metadata": {
        "id": "FJNUwmbgGyua"
      }
    },
    {
      "cell_type": "markdown",
      "source": [
        "Since 2008, guests and hosts have used Airbnb to expand on traveling possibilities and present a more unique, personalized way of experiencing the world. Today, Airbnb became one of a kind service that is used and recognized by the whole world. Data analysis on millions of listings provided through Airbnb is a crucial factor for the company. These millions of listings generate a lot of data - data that can be analyzed and used for security, business decisions, understanding of customers' and providers' (hosts) behavior and performance on the platform, guiding marketing initiatives, implementation of innovative additional services and much more.\n",
        "This dataset has around 49,000 observations in it with 16 columns and it is a mix between categorical and numeric values.\n"
      ],
      "metadata": {
        "id": "F6v_1wHtG2nS"
      }
    },
    {
      "cell_type": "markdown",
      "source": [
        "# **GitHub Link -**"
      ],
      "metadata": {
        "id": "w6K7xa23Elo4"
      }
    },
    {
      "cell_type": "markdown",
      "source": [
        "https://github.com/Kaavyesh/Airbnb-EDA-capstone-project/blob/main/Airbnb_EDA_capstone_project.ipynb"
      ],
      "metadata": {
        "id": "J8AHXwVGNbqZ"
      }
    },
    {
      "cell_type": "markdown",
      "source": [],
      "metadata": {
        "id": "plGAEwkOKi7O"
      }
    },
    {
      "cell_type": "markdown",
      "source": [
        "**Write Problem Statement Here.**"
      ],
      "metadata": {
        "id": "DpeJGUA3kjGy"
      }
    },
    {
      "cell_type": "markdown",
      "source": [
        "#### **Define Your Business Objective?**"
      ],
      "metadata": {
        "id": "PH-0ReGfmX4f"
      }
    },
    {
      "cell_type": "markdown",
      "source": [
        "Answer Here:\n",
        "\n",
        "**1)Top 10 Neighborhoods with Highest Average Prices:**\n",
        "\n",
        "*Identify areas with premium pricing.*\n",
        "\n",
        "*Tailor marketing efforts for high-end clientele.*\n",
        "\n",
        "*Optimize pricing strategy for these neighborhoods*\n",
        "\n",
        "**2)Co-relation between Number of Nights Stayed and Room Type:**\n",
        "\n",
        "Uncover room type preferences for longer stays.\n",
        "\n",
        "Enhance offerings to meet extended-stay demand.\n",
        "\n",
        "**3)Prices and Reviews Correlation:**\n",
        "\n",
        "Investigate relationship between pricing and review scores.\n",
        "\n",
        "Adjust pricing strategy based on review impact.\n",
        "\n",
        "**4)Top Neighborhoods by Listing Count:**\n",
        "\n",
        "Highlight neighborhoods with highest listing counts.\n",
        "\n",
        "Focus on enhancing customer experience in these areas.\n",
        "\n",
        "**5)Top 10 Hosts:**\n",
        "\n",
        "Recognize top-performing hosts.\n",
        "\n",
        "Provide insights to improve service quality and ratings."
      ],
      "metadata": {
        "id": "PhDvGCAqmjP1"
      }
    },
    {
      "cell_type": "markdown",
      "source": [
        "# **General Guidelines** : -  "
      ],
      "metadata": {
        "id": "mDgbUHAGgjLW"
      }
    },
    {
      "cell_type": "markdown",
      "source": [
        "1.   Well-structured, formatted, and commented code is required.\n",
        "2.   Exception Handling, Production Grade Code & Deployment Ready Code will be a plus. Those students will be awarded some additional credits.\n",
        "     \n",
        "     The additional credits will have advantages over other students during Star Student selection.\n",
        "       \n",
        "             [ Note: - Deployment Ready Code is defined as, the whole .ipynb notebook should be executable in one go\n",
        "                       without a single error logged. ]\n",
        "\n",
        "3.   Each and every logic should have proper comments.\n",
        "4. You may add as many number of charts you want. Make Sure for each and every chart the following format should be answered.\n",
        "        \n",
        "\n",
        "```\n",
        "# Chart visualization code\n",
        "```\n",
        "            \n",
        "\n",
        "*   Why did you pick the specific chart?\n",
        "*   What is/are the insight(s) found from the chart?\n",
        "* Will the gained insights help creating a positive business impact?\n",
        "Are there any insights that lead to negative growth? Justify with specific reason.\n",
        "\n",
        "5. You have to create at least 20 logical & meaningful charts having important insights.\n",
        "\n",
        "\n",
        "[ Hints : - Do the Vizualization in  a structured way while following \"UBM\" Rule.\n",
        "\n",
        "U - Univariate Analysis,\n",
        "\n",
        "B - Bivariate Analysis (Numerical - Categorical, Numerical - Numerical, Categorical - Categorical)\n",
        "\n",
        "M - Multivariate Analysis\n",
        " ]\n",
        "\n",
        "\n",
        "\n"
      ],
      "metadata": {
        "id": "ZrxVaUj-hHfC"
      }
    },
    {
      "cell_type": "markdown",
      "source": [
        "# ***Let's Begin !***"
      ],
      "metadata": {
        "id": "O_i_v8NEhb9l"
      }
    },
    {
      "cell_type": "markdown",
      "source": [
        "## ***1. Know Your Data***"
      ],
      "metadata": {
        "id": "HhfV-JJviCcP"
      }
    },
    {
      "cell_type": "markdown",
      "source": [
        "### Import Libraries"
      ],
      "metadata": {
        "id": "Y3lxredqlCYt"
      }
    },
    {
      "cell_type": "code",
      "source": [
        "# Import Libraries\n",
        "import pandas as pd\n",
        "import numpy as np\n"
      ],
      "metadata": {
        "id": "M8Vqi-pPk-HR"
      },
      "execution_count": 1,
      "outputs": []
    },
    {
      "cell_type": "code",
      "source": [
        "# mounting drive\n",
        "from google.colab import drive\n",
        "drive.mount('/content/drive')\n"
      ],
      "metadata": {
        "id": "qY0cQynsn_RV",
        "colab": {
          "base_uri": "https://localhost:8080/"
        },
        "outputId": "5c655bc3-4e31-4e64-fd1f-87a8d169ffe5"
      },
      "execution_count": 2,
      "outputs": [
        {
          "output_type": "stream",
          "name": "stdout",
          "text": [
            "Mounted at /content/drive\n"
          ]
        }
      ]
    },
    {
      "cell_type": "markdown",
      "source": [
        "### Dataset Loading"
      ],
      "metadata": {
        "id": "3RnN4peoiCZX"
      }
    },
    {
      "cell_type": "code",
      "source": [
        "# Load Dataset\n",
        "file_path = '/content/drive/MyDrive/forage data/project /Airbnb NYC 2019.csv'\n",
        "df = pd.read_csv(file_path )"
      ],
      "metadata": {
        "id": "4CkvbW_SlZ_R"
      },
      "execution_count": 3,
      "outputs": []
    },
    {
      "cell_type": "markdown",
      "source": [
        "### Dataset First View"
      ],
      "metadata": {
        "id": "x71ZqKXriCWQ"
      }
    },
    {
      "cell_type": "code",
      "source": [
        "# Dataset First Look\n",
        "df.head(5)"
      ],
      "metadata": {
        "id": "LWNFOSvLl09H",
        "colab": {
          "base_uri": "https://localhost:8080/",
          "height": 461
        },
        "outputId": "24f4301a-0446-4190-f8b3-6e9a357b5d33"
      },
      "execution_count": 4,
      "outputs": [
        {
          "output_type": "execute_result",
          "data": {
            "text/plain": [
              "     id                                              name  host_id  \\\n",
              "0  2539                Clean & quiet apt home by the park     2787   \n",
              "1  2595                             Skylit Midtown Castle     2845   \n",
              "2  3647               THE VILLAGE OF HARLEM....NEW YORK !     4632   \n",
              "3  3831                   Cozy Entire Floor of Brownstone     4869   \n",
              "4  5022  Entire Apt: Spacious Studio/Loft by central park     7192   \n",
              "\n",
              "     host_name neighbourhood_group neighbourhood  latitude  longitude  \\\n",
              "0         John            Brooklyn    Kensington  40.64749  -73.97237   \n",
              "1     Jennifer           Manhattan       Midtown  40.75362  -73.98377   \n",
              "2    Elisabeth           Manhattan        Harlem  40.80902  -73.94190   \n",
              "3  LisaRoxanne            Brooklyn  Clinton Hill  40.68514  -73.95976   \n",
              "4        Laura           Manhattan   East Harlem  40.79851  -73.94399   \n",
              "\n",
              "         room_type  price  minimum_nights  number_of_reviews last_review  \\\n",
              "0     Private room    149               1                  9  2018-10-19   \n",
              "1  Entire home/apt    225               1                 45  2019-05-21   \n",
              "2     Private room    150               3                  0         NaN   \n",
              "3  Entire home/apt     89               1                270  2019-07-05   \n",
              "4  Entire home/apt     80              10                  9  2018-11-19   \n",
              "\n",
              "   reviews_per_month  calculated_host_listings_count  availability_365  \n",
              "0               0.21                               6               365  \n",
              "1               0.38                               2               355  \n",
              "2                NaN                               1               365  \n",
              "3               4.64                               1               194  \n",
              "4               0.10                               1                 0  "
            ],
            "text/html": [
              "\n",
              "\n",
              "  <div id=\"df-833cf003-9f45-4b58-9a4f-21ce0120cfd1\">\n",
              "    <div class=\"colab-df-container\">\n",
              "      <div>\n",
              "<style scoped>\n",
              "    .dataframe tbody tr th:only-of-type {\n",
              "        vertical-align: middle;\n",
              "    }\n",
              "\n",
              "    .dataframe tbody tr th {\n",
              "        vertical-align: top;\n",
              "    }\n",
              "\n",
              "    .dataframe thead th {\n",
              "        text-align: right;\n",
              "    }\n",
              "</style>\n",
              "<table border=\"1\" class=\"dataframe\">\n",
              "  <thead>\n",
              "    <tr style=\"text-align: right;\">\n",
              "      <th></th>\n",
              "      <th>id</th>\n",
              "      <th>name</th>\n",
              "      <th>host_id</th>\n",
              "      <th>host_name</th>\n",
              "      <th>neighbourhood_group</th>\n",
              "      <th>neighbourhood</th>\n",
              "      <th>latitude</th>\n",
              "      <th>longitude</th>\n",
              "      <th>room_type</th>\n",
              "      <th>price</th>\n",
              "      <th>minimum_nights</th>\n",
              "      <th>number_of_reviews</th>\n",
              "      <th>last_review</th>\n",
              "      <th>reviews_per_month</th>\n",
              "      <th>calculated_host_listings_count</th>\n",
              "      <th>availability_365</th>\n",
              "    </tr>\n",
              "  </thead>\n",
              "  <tbody>\n",
              "    <tr>\n",
              "      <th>0</th>\n",
              "      <td>2539</td>\n",
              "      <td>Clean &amp; quiet apt home by the park</td>\n",
              "      <td>2787</td>\n",
              "      <td>John</td>\n",
              "      <td>Brooklyn</td>\n",
              "      <td>Kensington</td>\n",
              "      <td>40.64749</td>\n",
              "      <td>-73.97237</td>\n",
              "      <td>Private room</td>\n",
              "      <td>149</td>\n",
              "      <td>1</td>\n",
              "      <td>9</td>\n",
              "      <td>2018-10-19</td>\n",
              "      <td>0.21</td>\n",
              "      <td>6</td>\n",
              "      <td>365</td>\n",
              "    </tr>\n",
              "    <tr>\n",
              "      <th>1</th>\n",
              "      <td>2595</td>\n",
              "      <td>Skylit Midtown Castle</td>\n",
              "      <td>2845</td>\n",
              "      <td>Jennifer</td>\n",
              "      <td>Manhattan</td>\n",
              "      <td>Midtown</td>\n",
              "      <td>40.75362</td>\n",
              "      <td>-73.98377</td>\n",
              "      <td>Entire home/apt</td>\n",
              "      <td>225</td>\n",
              "      <td>1</td>\n",
              "      <td>45</td>\n",
              "      <td>2019-05-21</td>\n",
              "      <td>0.38</td>\n",
              "      <td>2</td>\n",
              "      <td>355</td>\n",
              "    </tr>\n",
              "    <tr>\n",
              "      <th>2</th>\n",
              "      <td>3647</td>\n",
              "      <td>THE VILLAGE OF HARLEM....NEW YORK !</td>\n",
              "      <td>4632</td>\n",
              "      <td>Elisabeth</td>\n",
              "      <td>Manhattan</td>\n",
              "      <td>Harlem</td>\n",
              "      <td>40.80902</td>\n",
              "      <td>-73.94190</td>\n",
              "      <td>Private room</td>\n",
              "      <td>150</td>\n",
              "      <td>3</td>\n",
              "      <td>0</td>\n",
              "      <td>NaN</td>\n",
              "      <td>NaN</td>\n",
              "      <td>1</td>\n",
              "      <td>365</td>\n",
              "    </tr>\n",
              "    <tr>\n",
              "      <th>3</th>\n",
              "      <td>3831</td>\n",
              "      <td>Cozy Entire Floor of Brownstone</td>\n",
              "      <td>4869</td>\n",
              "      <td>LisaRoxanne</td>\n",
              "      <td>Brooklyn</td>\n",
              "      <td>Clinton Hill</td>\n",
              "      <td>40.68514</td>\n",
              "      <td>-73.95976</td>\n",
              "      <td>Entire home/apt</td>\n",
              "      <td>89</td>\n",
              "      <td>1</td>\n",
              "      <td>270</td>\n",
              "      <td>2019-07-05</td>\n",
              "      <td>4.64</td>\n",
              "      <td>1</td>\n",
              "      <td>194</td>\n",
              "    </tr>\n",
              "    <tr>\n",
              "      <th>4</th>\n",
              "      <td>5022</td>\n",
              "      <td>Entire Apt: Spacious Studio/Loft by central park</td>\n",
              "      <td>7192</td>\n",
              "      <td>Laura</td>\n",
              "      <td>Manhattan</td>\n",
              "      <td>East Harlem</td>\n",
              "      <td>40.79851</td>\n",
              "      <td>-73.94399</td>\n",
              "      <td>Entire home/apt</td>\n",
              "      <td>80</td>\n",
              "      <td>10</td>\n",
              "      <td>9</td>\n",
              "      <td>2018-11-19</td>\n",
              "      <td>0.10</td>\n",
              "      <td>1</td>\n",
              "      <td>0</td>\n",
              "    </tr>\n",
              "  </tbody>\n",
              "</table>\n",
              "</div>\n",
              "      <button class=\"colab-df-convert\" onclick=\"convertToInteractive('df-833cf003-9f45-4b58-9a4f-21ce0120cfd1')\"\n",
              "              title=\"Convert this dataframe to an interactive table.\"\n",
              "              style=\"display:none;\">\n",
              "\n",
              "  <svg xmlns=\"http://www.w3.org/2000/svg\" height=\"24px\"viewBox=\"0 0 24 24\"\n",
              "       width=\"24px\">\n",
              "    <path d=\"M0 0h24v24H0V0z\" fill=\"none\"/>\n",
              "    <path d=\"M18.56 5.44l.94 2.06.94-2.06 2.06-.94-2.06-.94-.94-2.06-.94 2.06-2.06.94zm-11 1L8.5 8.5l.94-2.06 2.06-.94-2.06-.94L8.5 2.5l-.94 2.06-2.06.94zm10 10l.94 2.06.94-2.06 2.06-.94-2.06-.94-.94-2.06-.94 2.06-2.06.94z\"/><path d=\"M17.41 7.96l-1.37-1.37c-.4-.4-.92-.59-1.43-.59-.52 0-1.04.2-1.43.59L10.3 9.45l-7.72 7.72c-.78.78-.78 2.05 0 2.83L4 21.41c.39.39.9.59 1.41.59.51 0 1.02-.2 1.41-.59l7.78-7.78 2.81-2.81c.8-.78.8-2.07 0-2.86zM5.41 20L4 18.59l7.72-7.72 1.47 1.35L5.41 20z\"/>\n",
              "  </svg>\n",
              "      </button>\n",
              "\n",
              "\n",
              "\n",
              "    <div id=\"df-326ea9ca-3cc2-41f0-8a12-081e0115509e\">\n",
              "      <button class=\"colab-df-quickchart\" onclick=\"quickchart('df-326ea9ca-3cc2-41f0-8a12-081e0115509e')\"\n",
              "              title=\"Suggest charts.\"\n",
              "              style=\"display:none;\">\n",
              "\n",
              "<svg xmlns=\"http://www.w3.org/2000/svg\" height=\"24px\"viewBox=\"0 0 24 24\"\n",
              "     width=\"24px\">\n",
              "    <g>\n",
              "        <path d=\"M19 3H5c-1.1 0-2 .9-2 2v14c0 1.1.9 2 2 2h14c1.1 0 2-.9 2-2V5c0-1.1-.9-2-2-2zM9 17H7v-7h2v7zm4 0h-2V7h2v10zm4 0h-2v-4h2v4z\"/>\n",
              "    </g>\n",
              "</svg>\n",
              "      </button>\n",
              "    </div>\n",
              "\n",
              "<style>\n",
              "  .colab-df-quickchart {\n",
              "    background-color: #E8F0FE;\n",
              "    border: none;\n",
              "    border-radius: 50%;\n",
              "    cursor: pointer;\n",
              "    display: none;\n",
              "    fill: #1967D2;\n",
              "    height: 32px;\n",
              "    padding: 0 0 0 0;\n",
              "    width: 32px;\n",
              "  }\n",
              "\n",
              "  .colab-df-quickchart:hover {\n",
              "    background-color: #E2EBFA;\n",
              "    box-shadow: 0px 1px 2px rgba(60, 64, 67, 0.3), 0px 1px 3px 1px rgba(60, 64, 67, 0.15);\n",
              "    fill: #174EA6;\n",
              "  }\n",
              "\n",
              "  [theme=dark] .colab-df-quickchart {\n",
              "    background-color: #3B4455;\n",
              "    fill: #D2E3FC;\n",
              "  }\n",
              "\n",
              "  [theme=dark] .colab-df-quickchart:hover {\n",
              "    background-color: #434B5C;\n",
              "    box-shadow: 0px 1px 3px 1px rgba(0, 0, 0, 0.15);\n",
              "    filter: drop-shadow(0px 1px 2px rgba(0, 0, 0, 0.3));\n",
              "    fill: #FFFFFF;\n",
              "  }\n",
              "</style>\n",
              "\n",
              "    <script>\n",
              "      async function quickchart(key) {\n",
              "        const containerElement = document.querySelector('#' + key);\n",
              "        const charts = await google.colab.kernel.invokeFunction(\n",
              "            'suggestCharts', [key], {});\n",
              "      }\n",
              "    </script>\n",
              "\n",
              "      <script>\n",
              "\n",
              "function displayQuickchartButton(domScope) {\n",
              "  let quickchartButtonEl =\n",
              "    domScope.querySelector('#df-326ea9ca-3cc2-41f0-8a12-081e0115509e button.colab-df-quickchart');\n",
              "  quickchartButtonEl.style.display =\n",
              "    google.colab.kernel.accessAllowed ? 'block' : 'none';\n",
              "}\n",
              "\n",
              "        displayQuickchartButton(document);\n",
              "      </script>\n",
              "      <style>\n",
              "    .colab-df-container {\n",
              "      display:flex;\n",
              "      flex-wrap:wrap;\n",
              "      gap: 12px;\n",
              "    }\n",
              "\n",
              "    .colab-df-convert {\n",
              "      background-color: #E8F0FE;\n",
              "      border: none;\n",
              "      border-radius: 50%;\n",
              "      cursor: pointer;\n",
              "      display: none;\n",
              "      fill: #1967D2;\n",
              "      height: 32px;\n",
              "      padding: 0 0 0 0;\n",
              "      width: 32px;\n",
              "    }\n",
              "\n",
              "    .colab-df-convert:hover {\n",
              "      background-color: #E2EBFA;\n",
              "      box-shadow: 0px 1px 2px rgba(60, 64, 67, 0.3), 0px 1px 3px 1px rgba(60, 64, 67, 0.15);\n",
              "      fill: #174EA6;\n",
              "    }\n",
              "\n",
              "    [theme=dark] .colab-df-convert {\n",
              "      background-color: #3B4455;\n",
              "      fill: #D2E3FC;\n",
              "    }\n",
              "\n",
              "    [theme=dark] .colab-df-convert:hover {\n",
              "      background-color: #434B5C;\n",
              "      box-shadow: 0px 1px 3px 1px rgba(0, 0, 0, 0.15);\n",
              "      filter: drop-shadow(0px 1px 2px rgba(0, 0, 0, 0.3));\n",
              "      fill: #FFFFFF;\n",
              "    }\n",
              "  </style>\n",
              "\n",
              "      <script>\n",
              "        const buttonEl =\n",
              "          document.querySelector('#df-833cf003-9f45-4b58-9a4f-21ce0120cfd1 button.colab-df-convert');\n",
              "        buttonEl.style.display =\n",
              "          google.colab.kernel.accessAllowed ? 'block' : 'none';\n",
              "\n",
              "        async function convertToInteractive(key) {\n",
              "          const element = document.querySelector('#df-833cf003-9f45-4b58-9a4f-21ce0120cfd1');\n",
              "          const dataTable =\n",
              "            await google.colab.kernel.invokeFunction('convertToInteractive',\n",
              "                                                     [key], {});\n",
              "          if (!dataTable) return;\n",
              "\n",
              "          const docLinkHtml = 'Like what you see? Visit the ' +\n",
              "            '<a target=\"_blank\" href=https://colab.research.google.com/notebooks/data_table.ipynb>data table notebook</a>'\n",
              "            + ' to learn more about interactive tables.';\n",
              "          element.innerHTML = '';\n",
              "          dataTable['output_type'] = 'display_data';\n",
              "          await google.colab.output.renderOutput(dataTable, element);\n",
              "          const docLink = document.createElement('div');\n",
              "          docLink.innerHTML = docLinkHtml;\n",
              "          element.appendChild(docLink);\n",
              "        }\n",
              "      </script>\n",
              "    </div>\n",
              "  </div>\n"
            ]
          },
          "metadata": {},
          "execution_count": 4
        }
      ]
    },
    {
      "cell_type": "markdown",
      "source": [
        "### Dataset Rows & Columns count"
      ],
      "metadata": {
        "id": "7hBIi_osiCS2"
      }
    },
    {
      "cell_type": "code",
      "source": [
        "# Dataset Rows & Columns count\n",
        "print(\"Number of rows:\", df.shape[0])\n",
        "print(\"Number of columns:\", df.shape[1])\n"
      ],
      "metadata": {
        "id": "Kllu7SJgmLij",
        "colab": {
          "base_uri": "https://localhost:8080/"
        },
        "outputId": "05f5d24d-9ea1-4fe3-ab36-af465cea7ba9"
      },
      "execution_count": 5,
      "outputs": [
        {
          "output_type": "stream",
          "name": "stdout",
          "text": [
            "Number of rows: 48895\n",
            "Number of columns: 16\n"
          ]
        }
      ]
    },
    {
      "cell_type": "markdown",
      "source": [
        "### Dataset Information"
      ],
      "metadata": {
        "id": "JlHwYmJAmNHm"
      }
    },
    {
      "cell_type": "code",
      "source": [
        "# Dataset Info\n",
        "df.info()"
      ],
      "metadata": {
        "id": "e9hRXRi6meOf",
        "colab": {
          "base_uri": "https://localhost:8080/"
        },
        "outputId": "f0d32409-b040-4764-bfb7-6d6c01320d88"
      },
      "execution_count": 6,
      "outputs": [
        {
          "output_type": "stream",
          "name": "stdout",
          "text": [
            "<class 'pandas.core.frame.DataFrame'>\n",
            "RangeIndex: 48895 entries, 0 to 48894\n",
            "Data columns (total 16 columns):\n",
            " #   Column                          Non-Null Count  Dtype  \n",
            "---  ------                          --------------  -----  \n",
            " 0   id                              48895 non-null  int64  \n",
            " 1   name                            48879 non-null  object \n",
            " 2   host_id                         48895 non-null  int64  \n",
            " 3   host_name                       48874 non-null  object \n",
            " 4   neighbourhood_group             48895 non-null  object \n",
            " 5   neighbourhood                   48895 non-null  object \n",
            " 6   latitude                        48895 non-null  float64\n",
            " 7   longitude                       48895 non-null  float64\n",
            " 8   room_type                       48895 non-null  object \n",
            " 9   price                           48895 non-null  int64  \n",
            " 10  minimum_nights                  48895 non-null  int64  \n",
            " 11  number_of_reviews               48895 non-null  int64  \n",
            " 12  last_review                     38843 non-null  object \n",
            " 13  reviews_per_month               38843 non-null  float64\n",
            " 14  calculated_host_listings_count  48895 non-null  int64  \n",
            " 15  availability_365                48895 non-null  int64  \n",
            "dtypes: float64(3), int64(7), object(6)\n",
            "memory usage: 6.0+ MB\n"
          ]
        }
      ]
    },
    {
      "cell_type": "markdown",
      "source": [
        "#### Duplicate Values"
      ],
      "metadata": {
        "id": "35m5QtbWiB9F"
      }
    },
    {
      "cell_type": "code",
      "source": [
        "# Dataset Duplicate Value Count\n",
        "duplicate_count = df.duplicated().sum()\n",
        "print(\"Number of duplicate values:\", duplicate_count)\n"
      ],
      "metadata": {
        "id": "1sLdpKYkmox0",
        "colab": {
          "base_uri": "https://localhost:8080/"
        },
        "outputId": "a2802b31-a6ec-41de-e7ba-61840164143a"
      },
      "execution_count": 7,
      "outputs": [
        {
          "output_type": "stream",
          "name": "stdout",
          "text": [
            "Number of duplicate values: 0\n"
          ]
        }
      ]
    },
    {
      "cell_type": "markdown",
      "source": [
        "#### Missing Values/Null Values"
      ],
      "metadata": {
        "id": "PoPl-ycgm1ru"
      }
    },
    {
      "cell_type": "code",
      "source": [
        "# Missing Values/Null Values Count\n",
        "missing_values_count = df.isnull().sum()\n",
        "print(\"Missing values count:\\n\", missing_values_count)\n"
      ],
      "metadata": {
        "id": "GgHWkxvamxVg",
        "colab": {
          "base_uri": "https://localhost:8080/"
        },
        "outputId": "d3e04863-f881-4acb-edd8-642a77e7cb53"
      },
      "execution_count": 8,
      "outputs": [
        {
          "output_type": "stream",
          "name": "stdout",
          "text": [
            "Missing values count:\n",
            " id                                    0\n",
            "name                                 16\n",
            "host_id                               0\n",
            "host_name                            21\n",
            "neighbourhood_group                   0\n",
            "neighbourhood                         0\n",
            "latitude                              0\n",
            "longitude                             0\n",
            "room_type                             0\n",
            "price                                 0\n",
            "minimum_nights                        0\n",
            "number_of_reviews                     0\n",
            "last_review                       10052\n",
            "reviews_per_month                 10052\n",
            "calculated_host_listings_count        0\n",
            "availability_365                      0\n",
            "dtype: int64\n"
          ]
        }
      ]
    },
    {
      "cell_type": "code",
      "source": [
        "# Visualizing the missing values\n",
        "import matplotlib.pyplot as plt\n",
        "\n",
        "# Create a bar plot\n",
        "plt.figure(figsize=(10, 6))\n",
        "plt.bar(missing_values_count.index, missing_values_count.values)\n",
        "\n",
        "# Set plot labels and title\n",
        "plt.xlabel('Columns')\n",
        "plt.ylabel('Missing Values Count')\n",
        "plt.title('Missing Values Count per Column')\n",
        "\n",
        "# Rotate x-axis labels for better readability (optional)\n",
        "plt.xticks(rotation='vertical')\n",
        "\n",
        "# Display the plot\n",
        "plt.show()\n"
      ],
      "metadata": {
        "id": "3q5wnI3om9sJ",
        "colab": {
          "base_uri": "https://localhost:8080/",
          "height": 761
        },
        "outputId": "cf5e306e-9686-43f1-d3c0-4de65d1d9e76"
      },
      "execution_count": 9,
      "outputs": [
        {
          "output_type": "display_data",
          "data": {
            "text/plain": [
              "<Figure size 1000x600 with 1 Axes>"
            ],
            "image/png": "[encoded data removed]"
          },
          "metadata": {}
        }
      ]
    },
    {
      "cell_type": "markdown",
      "source": [
        "### What did you know about your dataset?"
      ],
      "metadata": {
        "id": "H0kj-8xxnORC"
      }
    },
    {
      "cell_type": "markdown",
      "source": [
        "Answer Here:\n",
        "- The dataset comprises columns like id, name, host_id, host_name, etc.\n",
        "- Some columns have missing values: name (16), host_name (21), last_review (10,052), and reviews_per_month (10,052).\n",
        "- Other columns in the dataset have no missing values.\n",
        "- No duplicate values were identified in the dataset.\n",
        "\n",
        "\n"
      ],
      "metadata": {
        "id": "gfoNAAC-nUe_"
      }
    },
    {
      "cell_type": "markdown",
      "source": [
        "## ***2. Understanding Your Variables***"
      ],
      "metadata": {
        "id": "nA9Y7ga8ng1Z"
      }
    },
    {
      "cell_type": "code",
      "source": [
        "# Dataset Columns\n",
        "for column in df.columns:\n",
        "    print(column)\n"
      ],
      "metadata": {
        "id": "j7xfkqrt5Ag5",
        "colab": {
          "base_uri": "https://localhost:8080/"
        },
        "outputId": "08b2121f-4092-49e4-bbca-9f454e1f0512"
      },
      "execution_count": 10,
      "outputs": [
        {
          "output_type": "stream",
          "name": "stdout",
          "text": [
            "id\n",
            "name\n",
            "host_id\n",
            "host_name\n",
            "neighbourhood_group\n",
            "neighbourhood\n",
            "latitude\n",
            "longitude\n",
            "room_type\n",
            "price\n",
            "minimum_nights\n",
            "number_of_reviews\n",
            "last_review\n",
            "reviews_per_month\n",
            "calculated_host_listings_count\n",
            "availability_365\n"
          ]
        }
      ]
    },
    {
      "cell_type": "code",
      "source": [
        "# Dataset Describe\n",
        "df.describe"
      ],
      "metadata": {
        "id": "DnOaZdaE5Q5t",
        "colab": {
          "base_uri": "https://localhost:8080/"
        },
        "outputId": "1bb37135-ab4a-4248-b14f-478b69c014d9"
      },
      "execution_count": 11,
      "outputs": [
        {
          "output_type": "execute_result",
          "data": {
            "text/plain": [
              "<bound method NDFrame.describe of              id                                               name   host_id  \\\n",
              "0          2539                 Clean & quiet apt home by the park      2787   \n",
              "1          2595                              Skylit Midtown Castle      2845   \n",
              "2          3647                THE VILLAGE OF HARLEM....NEW YORK !      4632   \n",
              "3          3831                    Cozy Entire Floor of Brownstone      4869   \n",
              "4          5022   Entire Apt: Spacious Studio/Loft by central park      7192   \n",
              "...         ...                                                ...       ...   \n",
              "48890  36484665    Charming one bedroom - newly renovated rowhouse   8232441   \n",
              "48891  36485057      Affordable room in Bushwick/East Williamsburg   6570630   \n",
              "48892  36485431            Sunny Studio at Historical Neighborhood  23492952   \n",
              "48893  36485609               43rd St. Time Square-cozy single bed  30985759   \n",
              "48894  36487245  Trendy duplex in the very heart of Hell's Kitchen  68119814   \n",
              "\n",
              "           host_name neighbourhood_group       neighbourhood  latitude  \\\n",
              "0               John            Brooklyn          Kensington  40.64749   \n",
              "1           Jennifer           Manhattan             Midtown  40.75362   \n",
              "2          Elisabeth           Manhattan              Harlem  40.80902   \n",
              "3        LisaRoxanne            Brooklyn        Clinton Hill  40.68514   \n",
              "4              Laura           Manhattan         East Harlem  40.79851   \n",
              "...              ...                 ...                 ...       ...   \n",
              "48890        Sabrina            Brooklyn  Bedford-Stuyvesant  40.67853   \n",
              "48891        Marisol            Brooklyn            Bushwick  40.70184   \n",
              "48892  Ilgar & Aysel           Manhattan              Harlem  40.81475   \n",
              "48893            Taz           Manhattan      Hell's Kitchen  40.75751   \n",
              "48894     Christophe           Manhattan      Hell's Kitchen  40.76404   \n",
              "\n",
              "       longitude        room_type  price  minimum_nights  number_of_reviews  \\\n",
              "0      -73.97237     Private room    149               1                  9   \n",
              "1      -73.98377  Entire home/apt    225               1                 45   \n",
              "2      -73.94190     Private room    150               3                  0   \n",
              "3      -73.95976  Entire home/apt     89               1                270   \n",
              "4      -73.94399  Entire home/apt     80              10                  9   \n",
              "...          ...              ...    ...             ...                ...   \n",
              "48890  -73.94995     Private room     70               2                  0   \n",
              "48891  -73.93317     Private room     40               4                  0   \n",
              "48892  -73.94867  Entire home/apt    115              10                  0   \n",
              "48893  -73.99112      Shared room     55               1                  0   \n",
              "48894  -73.98933     Private room     90               7                  0   \n",
              "\n",
              "      last_review  reviews_per_month  calculated_host_listings_count  \\\n",
              "0      2018-10-19               0.21                               6   \n",
              "1      2019-05-21               0.38                               2   \n",
              "2             NaN                NaN                               1   \n",
              "3      2019-07-05               4.64                               1   \n",
              "4      2018-11-19               0.10                               1   \n",
              "...           ...                ...                             ...   \n",
              "48890         NaN                NaN                               2   \n",
              "48891         NaN                NaN                               2   \n",
              "48892         NaN                NaN                               1   \n",
              "48893         NaN                NaN                               6   \n",
              "48894         NaN                NaN                               1   \n",
              "\n",
              "       availability_365  \n",
              "0                   365  \n",
              "1                   355  \n",
              "2                   365  \n",
              "3                   194  \n",
              "4                     0  \n",
              "...                 ...  \n",
              "48890                 9  \n",
              "48891                36  \n",
              "48892                27  \n",
              "48893                 2  \n",
              "48894                23  \n",
              "\n",
              "[48895 rows x 16 columns]>"
            ]
          },
          "metadata": {},
          "execution_count": 11
        }
      ]
    },
    {
      "cell_type": "markdown",
      "source": [
        "### Variables Description"
      ],
      "metadata": {
        "id": "PBTbrJXOngz2"
      }
    },
    {
      "cell_type": "markdown",
      "source": [
        "Answer Here :    \n",
        "\n",
        "1. `id`: It represents the unique identifier for each entry in the dataset.\n",
        "\n",
        "2. `name`: It refers to the name or title associated with a particular listing or entry.\n",
        "\n",
        "3. `host_id`: It represents the unique identifier for the host associated with a listing.\n",
        "\n",
        "4. `host_name`: It indicates the name of the host associated with a listing.\n",
        "\n",
        "5. `neighbourhood_group`: It denotes the group or category to which a specific neighborhood belongs.\n",
        "\n",
        "6. `neighbourhood`: It represents the name or identifier of the neighborhood where a listing is located.\n",
        "\n",
        "7. `latitude`: It specifies the latitude coordinate of the location associated with a listing.\n",
        "\n",
        "8. `longitude`: It specifies the longitude coordinate of the location associated with a listing.\n",
        "\n",
        "9. `room_type`: It indicates the type or category of the room available for listing, such as \"Entire home/apt,\" \"Private room,\" or \"Shared room.\"\n",
        "\n",
        "10. `price`: It represents the price or cost associated with a particular listing.\n",
        "\n",
        "11. `minimum_nights`: It refers to the minimum number of nights required for a booking or stay at a listing.\n",
        "\n",
        "12. `number_of_reviews`: It denotes the total number of reviews received for a listing.\n",
        "\n",
        "13. `last_review`: It represents the date of the last review received for a listing.\n",
        "\n",
        "14. `reviews_per_month`: It indicates the average number of reviews received per month for a listing.\n",
        "\n",
        "15. `calculated_host_listings_count`: It denotes the count of listings associated with a specific host.\n",
        "\n",
        "16. `availability_365`: It represents the number of days in a year that a listing is available for booking or rental."
      ],
      "metadata": {
        "id": "aJV4KIxSnxay"
      }
    },
    {
      "cell_type": "markdown",
      "source": [
        "### Check Unique Values for each variable."
      ],
      "metadata": {
        "id": "u3PMJOP6ngxN"
      }
    },
    {
      "cell_type": "code",
      "source": [
        "# Check Unique Values for each variable.\n",
        "for columns in df.columns:\n",
        "  unique_values = df[columns].unique()\n",
        "  print(unique_values)"
      ],
      "metadata": {
        "id": "zms12Yq5n-jE",
        "colab": {
          "base_uri": "https://localhost:8080/"
        },
        "outputId": "543e8fdf-e439-4dff-d3a2-102cf8eb5ff4"
      },
      "execution_count": 12,
      "outputs": [
        {
          "output_type": "stream",
          "name": "stdout",
          "text": [
            "[    2539     2595     3647 ... 36485431 36485609 36487245]\n",
            "['Clean & quiet apt home by the park' 'Skylit Midtown Castle'\n",
            " 'THE VILLAGE OF HARLEM....NEW YORK !' ...\n",
            " 'Sunny Studio at Historical Neighborhood'\n",
            " '43rd St. Time Square-cozy single bed'\n",
            " \"Trendy duplex in the very heart of Hell's Kitchen\"]\n",
            "[     2787      2845      4632 ... 274321313  23492952  68119814]\n",
            "['John' 'Jennifer' 'Elisabeth' ... 'Abayomi' 'Alberth' 'Ilgar & Aysel']\n",
            "['Brooklyn' 'Manhattan' 'Queens' 'Staten Island' 'Bronx']\n",
            "['Kensington' 'Midtown' 'Harlem' 'Clinton Hill' 'East Harlem'\n",
            " 'Murray Hill' 'Bedford-Stuyvesant' \"Hell's Kitchen\" 'Upper West Side'\n",
            " 'Chinatown' 'South Slope' 'West Village' 'Williamsburg' 'Fort Greene'\n",
            " 'Chelsea' 'Crown Heights' 'Park Slope' 'Windsor Terrace' 'Inwood'\n",
            " 'East Village' 'Greenpoint' 'Bushwick' 'Flatbush' 'Lower East Side'\n",
            " 'Prospect-Lefferts Gardens' 'Long Island City' 'Kips Bay' 'SoHo'\n",
            " 'Upper East Side' 'Prospect Heights' 'Washington Heights' 'Woodside'\n",
            " 'Brooklyn Heights' 'Carroll Gardens' 'Gowanus' 'Flatlands' 'Cobble Hill'\n",
            " 'Flushing' 'Boerum Hill' 'Sunnyside' 'DUMBO' 'St. George' 'Highbridge'\n",
            " 'Financial District' 'Ridgewood' 'Morningside Heights' 'Jamaica'\n",
            " 'Middle Village' 'NoHo' 'Ditmars Steinway' 'Flatiron District'\n",
            " 'Roosevelt Island' 'Greenwich Village' 'Little Italy' 'East Flatbush'\n",
            " 'Tompkinsville' 'Astoria' 'Clason Point' 'Eastchester' 'Kingsbridge'\n",
            " 'Two Bridges' 'Queens Village' 'Rockaway Beach' 'Forest Hills' 'Nolita'\n",
            " 'Woodlawn' 'University Heights' 'Gravesend' 'Gramercy' 'Allerton'\n",
            " 'East New York' 'Theater District' 'Concourse Village' 'Sheepshead Bay'\n",
            " 'Emerson Hill' 'Fort Hamilton' 'Bensonhurst' 'Tribeca' 'Shore Acres'\n",
            " 'Sunset Park' 'Concourse' 'Elmhurst' 'Brighton Beach' 'Jackson Heights'\n",
            " 'Cypress Hills' 'St. Albans' 'Arrochar' 'Rego Park' 'Wakefield' 'Clifton'\n",
            " 'Bay Ridge' 'Graniteville' 'Spuyten Duyvil' 'Stapleton' 'Briarwood'\n",
            " 'Ozone Park' 'Columbia St' 'Vinegar Hill' 'Mott Haven' 'Longwood'\n",
            " 'Canarsie' 'Battery Park City' 'Civic Center' 'East Elmhurst'\n",
            " 'New Springville' 'Morris Heights' 'Arverne' 'Cambria Heights'\n",
            " 'Tottenville' 'Mariners Harbor' 'Concord' 'Borough Park' 'Bayside'\n",
            " 'Downtown Brooklyn' 'Port Morris' 'Fieldston' 'Kew Gardens' 'Midwood'\n",
            " 'College Point' 'Mount Eden' 'City Island' 'Glendale' 'Port Richmond'\n",
            " 'Red Hook' 'Richmond Hill' 'Bellerose' 'Maspeth' 'Williamsbridge'\n",
            " 'Soundview' 'Woodhaven' 'Woodrow' 'Co-op City' 'Stuyvesant Town'\n",
            " 'Parkchester' 'North Riverdale' 'Dyker Heights' 'Bronxdale' 'Sea Gate'\n",
            " 'Riverdale' 'Kew Gardens Hills' 'Bay Terrace' 'Norwood'\n",
            " 'Claremont Village' 'Whitestone' 'Fordham' 'Bayswater' 'Navy Yard'\n",
            " 'Brownsville' 'Eltingville' 'Fresh Meadows' 'Mount Hope'\n",
            " 'Lighthouse Hill' 'Springfield Gardens' 'Howard Beach' 'Belle Harbor'\n",
            " 'Jamaica Estates' 'Van Nest' 'Morris Park' 'West Brighton' 'Far Rockaway'\n",
            " 'South Ozone Park' 'Tremont' 'Corona' 'Great Kills' 'Manhattan Beach'\n",
            " 'Marble Hill' 'Dongan Hills' 'Castleton Corners' 'East Morrisania'\n",
            " 'Hunts Point' 'Neponsit' 'Pelham Bay' 'Randall Manor' 'Throgs Neck'\n",
            " 'Todt Hill' 'West Farms' 'Silver Lake' 'Morrisania' 'Laurelton'\n",
            " 'Grymes Hill' 'Holliswood' 'Pelham Gardens' 'Belmont' 'Rosedale'\n",
            " 'Edgemere' 'New Brighton' 'Midland Beach' 'Baychester' 'Melrose'\n",
            " 'Bergen Beach' 'Richmondtown' 'Howland Hook' 'Schuylerville'\n",
            " 'Coney Island' 'New Dorp Beach' \"Prince's Bay\" 'South Beach' 'Bath Beach'\n",
            " 'Jamaica Hills' 'Oakwood' 'Castle Hill' 'Hollis' 'Douglaston' 'Huguenot'\n",
            " 'Olinville' 'Edenwald' 'Grant City' 'Westerleigh'\n",
            " 'Bay Terrace, Staten Island' 'Westchester Square' 'Little Neck'\n",
            " 'Fort Wadsworth' 'Rosebank' 'Unionport' 'Mill Basin' 'Arden Heights'\n",
            " \"Bull's Head\" 'New Dorp' 'Rossville' 'Breezy Point' 'Willowbrook']\n",
            "[40.64749 40.75362 40.80902 ... 40.80953 40.70184 40.81475]\n",
            "[-73.97237 -73.98377 -73.9419  ... -73.87727 -73.93614 -73.80844]\n",
            "['Private room' 'Entire home/apt' 'Shared room']\n",
            "[  149   225   150    89    80   200    60    79   135    85   120   140\n",
            "   215    99   190   299   130   110    44   180    50    52    55    70\n",
            "    35    40    68   115   151   228   144    69    49   375   250   275\n",
            "   230    51    65   105    95   145   285    94   800   131    98   100\n",
            "   125   175   500   101   220    59   350   199   325   235   170   400\n",
            "    75    90   185    77    76   160   195   156   219   475   165   196\n",
            "    83   123   265   249   121    45    71    64   159   189   239   305\n",
            "   155    92    36    37   205    39   390   129   212   124   122   109\n",
            "   575   229   169   113   179   349   139   650    67   599   211   290\n",
            "    87   395   260    97   132   141   495   259    96   295   451   300\n",
            "    42   255    72    88   450   198    46    33   106    91  2000   429\n",
            "   107    43   248    41   157   172   146   116   288   270   241   399\n",
            "   438   279   137   280   226   154   700   246   119   850    81    54\n",
            "   760    48    58   153    73   485   310   167   147    34    93    56\n",
            "  1300   127   402    30   240   385    47   209   192    86   245   499\n",
            "   387   178  3000   549    20    74   104   298   269   138   208   142\n",
            "   174   315   210   311    82   117   380   328   102   118   217   152\n",
            "   197   133   331   128   136   148  1000   263   433    61   234   595\n",
            "   108   355   134    62   550    84    78   900   103   330   425   168\n",
            "    66   625   171   187   600   312    38   163   158   173   465    63\n",
            "   340    57  4000   999   289   166   176   339   191  2500   329   890\n",
            "    53   420   950   334  1395   221   182   750   181   112  1500  1899\n",
            "   188   262   111   162    29   232  5000   345  1100   224    10   194\n",
            "    31  1200   440   439   555   143   184   799   455   193   161   201\n",
            "  1700   525    32   251  1999   480   320   164   272   177   560  6000\n",
            "   379   303   675   749  5250  1550  1250  1485   369  6500  2750  3750\n",
            "  1600   975    25    18  2300   409   218   430  4500  8000   795   414\n",
            "   126    16   785   370    22   316   264   318   273   308   365   216\n",
            "   545   860   540   233  1400   383   419  1050  2695   985   360   699\n",
            "   227   247   895  9999   258  2400   254   346   415   995  1763   510\n",
            "  1450   281    27    28   825   524   202   244   114   341   257   322\n",
            "   276   207   445   284   449   680  1495   256   888   389   460 10000\n",
            "   222   243   267   398   386   319   238   374   490   335  1195   203\n",
            "   469   186   352   297   237   745   410  1170   261  1150   434   590\n",
            "   899   304   296   183   531   214   655    24   477   372   206    26\n",
            "   587   204  1731  1002   333   283   814  1800   278   421   690   619\n",
            "  2100   348   223   268   359   436   935   274   376   980   294   559\n",
            "   509   301   408  3800   479  2350   822    23   407   489   252   672\n",
            "   378   584   894   643   462   649   302   321   534   748   487   236\n",
            "  1020    19  1599    21   585  2590    11   640   459    12  2250   484\n",
            "   337   317    15  2800  1475   615  2900   287     0   515  1067   424\n",
            "   578   789  1795  1095   530  3900   496   435   422   367   695  1177\n",
            "   790   253   573   766   231   840   577   589   949   358   213  2200\n",
            "   497  1066   412   647   277   720  2010  3210  4160  1046   271   416\n",
            "  1680  7703  3518  6419  2626  2103  8500  2990   620   394   323   974\n",
            "   344  1333   780   347   393   309   483   737   470   689   639   848\n",
            "   403   471   377   282   314   478   670  2545  1115   520   913   505\n",
            "   718   692  3600   307   306  1880   714   956   266   292  2999   418\n",
            "   452   397   343   291   392   356   242   396   332   361   453   481\n",
            "   466   388   423   362   313   805   725   443  1350  3200   293   432\n",
            "   444  1075   820   373  1750  1080  1299  1295   519  1978  1494  3512\n",
            "   382   404   503   472   454   431   468   498   612   488  1497  2850\n",
            "   990   506   324  1315   446  7500  3613  2600  4100   794  1145  1306\n",
            "   336  5100   898   327   442   474  1799   353  4200   616  6800   945\n",
            "   539   426   875   463   688   580   583   381  1900   659   830    13\n",
            "   447  1099   428   920   930  2995   342   843   417  1308   561  1369\n",
            "  1749   338]\n",
            "[   1    3   10   45    2    5    4   90    7   14   60   29   30  180\n",
            "    9   31    6   15    8   26   28  200   50   17   21   11   25   13\n",
            "   35   27   18   20   40   44   65   55  120  365  122   19  240   88\n",
            "  115  150  370   16   80  181  265  300   59  185  360   56   12   70\n",
            "   39   24   32 1000  110  270   22   75  250   62   23 1250  364   74\n",
            "  198  100  500   43   91  480   53   99  160   47  999  186  366   68\n",
            "   93   87  183  299  175   98  133  354   42   33   37  225  400  105\n",
            "  184  153  134  222   58  210  275  182  114   85   36]\n",
            "[  9  45   0 270  74  49 430 118 160  53 188 167 113  27 148 198 260 130\n",
            "  39  71  88  19  58 108  29 242 197 273 168 231 214 245  15  25  81  97\n",
            "  11 248  61 135 112  73  82 328 105 289 138  21  42   5  66 143 191   4\n",
            " 338 106 190  23 142  54  70  16  94 194   2 174  24 166   1  30 139 233\n",
            "  68  46 335 162 170 334  12 467   7  38 324 115 354 195  13  36  63 155\n",
            " 193  32  50  26 426 227  84   3  10 124 240 200  79  34 134 126 234 202\n",
            "  28 309  14  80 294 150  47 219 114 213  86  18 206 122  33  52  51 199\n",
            "  41 109 151 285 375   6 358 226 104 204 253 129  37  69 192  17 222 205\n",
            " 458 183 189 127  35 171  92 238  56 111 147 177 185  62 181 333 441 279\n",
            " 203 210  64 132  20  67 187  22  93  48 120  43  59  31 220 286 398  76\n",
            " 182   8 228 388 223 218  75 370 131 136  98 380 163 247 116 320 225  95\n",
            " 403 175 263 232  72 414 119 117 385 103 280  57 480 101  87 241  90  99\n",
            " 271  89 179 401  83 211 295 207 172 330 123  55 258 128  60 152 154 164\n",
            " 278 235 305 102  65  40 100 125 229 107 176 178 216 314 153 110 244 208\n",
            " 121 157 209  44 158 236 215  78 297  77 265 156 272 268 133 165 269 243\n",
            " 137 145 339 454 230 144 439 261 319 184 451 169 266 251 141 304 474  85\n",
            " 221 201 321 250 149 254 161 323 347 296  96 173 239 404 326 363 146 327\n",
            " 237 353  91 302 276 186 322 267 540 224 291 315 313 594 597 607 287 159\n",
            " 395 281 447 356 360 349 246 308 292 140 284 374 196 212 274 340 386 336\n",
            " 249 275 259 252 298 288 255 365 257 217 488 332 180 277 389 372 299 394\n",
            " 357 350 352 351 262 318 307 325 282 396 466 397 290 448 424 408 543 264\n",
            " 629 576 256 459 412 378 411 434 510 306 392 417 368 436 310 341]\n",
            "['2018-10-19' '2019-05-21' nan ... '2017-12-23' '2018-01-29' '2018-03-29']\n",
            "[2.100e-01 3.800e-01       nan 4.640e+00 1.000e-01 5.900e-01 4.000e-01\n",
            " 3.470e+00 9.900e-01 1.330e+00 4.300e-01 1.500e+00 1.340e+00 9.100e-01\n",
            " 2.200e-01 1.200e+00 1.720e+00 2.120e+00 4.440e+00 7.000e-02 1.090e+00\n",
            " 3.700e-01 6.100e-01 7.300e-01 1.370e+00 4.900e-01 1.110e+00 2.400e-01\n",
            " 2.040e+00 1.420e+00 1.650e+00 2.370e+00 6.600e-01 1.410e+00 1.960e+00\n",
            " 1.810e+00 2.080e+00 3.900e-01 2.300e-01 6.900e-01 8.400e-01 2.250e+00\n",
            " 5.200e-01 1.160e+00 1.010e+00 6.300e-01 7.000e-01 2.820e+00 9.000e-01\n",
            " 1.700e-01 2.490e+00 1.190e+00 3.000e-01 1.200e-01 5.700e-01 1.600e-01\n",
            " 4.720e+00 1.400e+00 1.260e+00 1.640e+00 1.600e+00 9.200e-01 2.000e-01\n",
            " 1.280e+00 5.400e-01 6.200e-01 1.500e-01 5.300e-01 1.730e+00 5.000e-02\n",
            " 1.540e+00 2.800e-01 3.400e+00 1.570e+00 1.050e+00 7.100e-01 1.100e-01\n",
            " 2.700e-01 1.230e+00 8.700e-01 2.090e+00 6.000e-01 5.500e-01 3.020e+00\n",
            " 7.900e-01 1.460e+00 1.610e+00 3.000e+00 1.300e-01 4.220e+00 6.000e-02\n",
            " 3.010e+00 3.200e+00 2.030e+00 8.000e-02 1.900e-01 3.300e-01 5.800e-01\n",
            " 2.350e+00 1.860e+00 2.900e-01 4.500e-01 2.500e-01 2.000e-02 3.890e+00\n",
            " 7.700e-01 3.000e-02 4.000e-02 1.000e-02 2.190e+00 7.400e-01 9.000e-02\n",
            " 3.200e-01 1.240e+00 2.600e+00 2.600e-01 2.860e+00 2.170e+00 1.660e+00\n",
            " 9.400e-01 1.780e+00 7.800e-01 1.060e+00 2.000e+00 8.000e-01 7.500e-01\n",
            " 3.600e-01 1.790e+00 1.920e+00 1.180e+00 5.000e-01 1.170e+00 4.800e-01\n",
            " 1.850e+00 1.040e+00 1.430e+00 2.690e+00 3.520e+00 3.100e-01 3.440e+00\n",
            " 1.000e+00 1.450e+00 3.040e+00 1.220e+00 1.130e+00 3.500e-01 6.500e-01\n",
            " 1.840e+00 9.600e-01 2.100e+00 4.580e+00 6.700e-01 1.800e-01 1.830e+00\n",
            " 1.820e+00 1.300e+00 3.400e-01 2.210e+00 1.800e+00 2.300e+00 2.130e+00\n",
            " 1.440e+00 1.710e+00 1.770e+00 3.190e+00 4.500e+00 4.600e-01 2.390e+00\n",
            " 1.380e+00 4.100e-01 1.400e-01 3.550e+00 2.270e+00 1.270e+00 1.310e+00\n",
            " 1.870e+00 5.600e-01 9.300e-01 6.800e-01 1.250e+00 1.880e+00 4.200e-01\n",
            " 4.400e-01 2.010e+00 2.810e+00 3.970e+00 7.600e-01 5.100e-01 8.500e-01\n",
            " 2.400e+00 1.070e+00 3.880e+00 2.220e+00 1.510e+00 2.260e+00 1.210e+00\n",
            " 3.740e+00 1.760e+00 1.680e+00 3.830e+00 2.530e+00 2.510e+00 3.230e+00\n",
            " 4.100e+00 1.550e+00 2.410e+00 7.200e-01 8.600e-01 2.180e+00 4.340e+00\n",
            " 2.140e+00 4.000e+00 1.080e+00 2.330e+00 2.310e+00 2.920e+00 8.900e-01\n",
            " 1.940e+00 6.700e+00 4.700e-01 4.600e+00 9.500e-01 2.840e+00 1.970e+00\n",
            " 2.020e+00 6.620e+00 9.700e-01 1.290e+00 3.900e+00 2.850e+00 1.620e+00\n",
            " 7.140e+00 2.700e+00 2.900e+00 1.630e+00 2.470e+00 6.400e-01 2.950e+00\n",
            " 1.150e+00 3.240e+00 1.520e+00 8.800e-01 1.360e+00 1.590e+00 1.320e+00\n",
            " 2.590e+00 2.450e+00 1.890e+00 9.800e-01 2.650e+00 2.500e+00 2.830e+00\n",
            " 3.450e+00 1.020e+00 2.740e+00 1.750e+00 2.320e+00 2.380e+00 2.520e+00\n",
            " 1.100e+00 8.200e-01 1.120e+00 1.690e+00 1.390e+00 2.440e+00 2.290e+00\n",
            " 8.100e-01 2.420e+00 3.600e+00 3.370e+00 2.110e+00 2.990e+00 1.470e+00\n",
            " 1.490e+00 3.180e+00 3.090e+00 2.750e+00 1.530e+00 1.140e+00 3.300e+00\n",
            " 1.350e+00 3.150e+00 2.060e+00 2.150e+00 5.270e+00 8.300e-01 5.120e+00\n",
            " 1.560e+00 3.780e+00 2.630e+00 2.540e+00 3.510e+00 5.260e+00 3.850e+00\n",
            " 2.200e+00 3.170e+00 1.030e+00 3.700e+00 5.530e+00 2.550e+00 1.910e+00\n",
            " 4.140e+00 1.950e+00 3.930e+00 1.900e+00 1.990e+00 3.050e+00 3.160e+00\n",
            " 3.530e+00 4.240e+00 2.570e+00 1.980e+00 3.920e+00 3.590e+00 3.560e+00\n",
            " 2.890e+00 4.900e+00 3.960e+00 4.550e+00 2.070e+00 1.930e+00 1.670e+00\n",
            " 1.700e+00 4.010e+00 1.000e+01 2.960e+00 3.350e+00 2.680e+00 3.340e+00\n",
            " 4.160e+00 2.620e+00 4.330e+00 2.790e+00 3.070e+00 4.180e+00 2.340e+00\n",
            " 3.580e+00 4.460e+00 6.950e+00 2.910e+00 2.970e+00 2.360e+00 3.690e+00\n",
            " 4.030e+00 4.090e+00 7.570e+00 7.720e+00 7.750e+00 5.390e+00 3.080e+00\n",
            " 4.300e+00 5.160e+00 3.680e+00 2.460e+00 5.890e+00 1.740e+00 3.140e+00\n",
            " 4.790e+00 2.720e+00 3.220e+00 3.270e+00 3.120e+00 4.730e+00 4.110e+00\n",
            " 2.610e+00 3.800e+00 2.660e+00 3.660e+00 3.870e+00 2.870e+00 5.060e+00\n",
            " 2.670e+00 3.310e+00 2.240e+00 2.230e+00 4.510e+00 3.410e+00 4.670e+00\n",
            " 5.680e+00 3.100e+00 2.780e+00 5.400e+00 4.540e+00 2.640e+00 2.050e+00\n",
            " 2.800e+00 3.280e+00 4.020e+00 3.110e+00 3.320e+00 4.620e+00 3.490e+00\n",
            " 4.430e+00 3.940e+00 3.500e+00 1.580e+00 3.390e+00 6.300e+00 2.770e+00\n",
            " 4.830e+00 8.520e+00 3.630e+00 4.490e+00 3.460e+00 4.710e+00 3.610e+00\n",
            " 3.360e+00 3.820e+00 3.250e+00 3.130e+00 2.980e+00 3.420e+00 3.380e+00\n",
            " 3.290e+00 4.820e+00 3.030e+00 4.320e+00 3.330e+00 4.290e+00 4.910e+00\n",
            " 4.310e+00 1.480e+00 2.930e+00 2.710e+00 2.430e+00 3.620e+00 2.280e+00\n",
            " 4.270e+00 5.200e+00 4.200e+00 5.540e+00 4.050e+00 3.670e+00 4.070e+00\n",
            " 5.810e+00 3.260e+00 4.840e+00 4.570e+00 3.060e+00 3.720e+00 4.360e+00\n",
            " 4.690e+00 3.540e+00 2.880e+00 4.210e+00 3.950e+00 2.730e+00 8.140e+00\n",
            " 3.480e+00 3.790e+00 5.570e+00 4.120e+00 5.960e+00 4.950e+00 2.480e+00\n",
            " 6.510e+00 4.630e+00 6.230e+00 5.040e+00 5.460e+00 4.370e+00 5.030e+00\n",
            " 6.760e+00 4.990e+00 5.000e+00 2.760e+00 2.580e+00 4.130e+00 3.760e+00\n",
            " 5.020e+00 3.640e+00 3.990e+00 6.790e+00 6.190e+00 2.560e+00 6.220e+00\n",
            " 3.910e+00 6.050e+00 5.600e+00 6.100e+00 6.090e+00 4.660e+00 2.940e+00\n",
            " 4.150e+00 5.900e+00 6.310e+00 7.530e+00 3.810e+00 3.210e+00 4.400e+00\n",
            " 8.210e+00 4.650e+00 5.780e+00 3.430e+00 5.440e+00 4.450e+00 5.660e+00\n",
            " 1.345e+01 2.160e+00 3.860e+00 6.770e+00 4.080e+00 4.390e+00 4.380e+00\n",
            " 3.750e+00 5.510e+00 4.420e+00 5.720e+00 7.710e+00 5.290e+00 9.160e+00\n",
            " 5.170e+00 5.920e+00 4.870e+00 7.970e+00 4.940e+00 8.820e+00 3.710e+00\n",
            " 4.590e+00 4.480e+00 5.280e+00 3.570e+00 4.850e+00 3.650e+00 4.700e+00\n",
            " 5.370e+00 4.260e+00 9.630e+00 4.560e+00 5.410e+00 5.130e+00 5.450e+00\n",
            " 5.090e+00 8.860e+00 8.560e+00 4.190e+00 4.170e+00 6.610e+00 4.780e+00\n",
            " 5.360e+00 7.310e+00 6.370e+00 6.260e+00 7.070e+00 4.980e+00 1.159e+01\n",
            " 4.060e+00 4.350e+00 4.530e+00 4.680e+00 5.420e+00 5.980e+00 5.220e+00\n",
            " 5.610e+00 4.230e+00 6.460e+00 5.650e+00 5.850e+00 5.590e+00 5.940e+00\n",
            " 5.110e+00 5.180e+00 1.458e+01 4.470e+00 4.770e+00 6.570e+00 4.890e+00\n",
            " 6.120e+00 4.800e+00 5.620e+00 3.980e+00 6.250e+00 5.950e+00 1.340e+01\n",
            " 5.490e+00 1.072e+01 5.250e+00 4.040e+00 5.340e+00 4.760e+00 3.770e+00\n",
            " 5.870e+00 5.010e+00 6.080e+00 5.830e+00 4.520e+00 9.260e+00 5.080e+00\n",
            " 7.380e+00 1.019e+01 6.780e+00 6.020e+00 5.070e+00 5.710e+00 4.610e+00\n",
            " 6.380e+00 4.250e+00 9.670e+00 5.970e+00 3.840e+00 4.810e+00 6.680e+00\n",
            " 6.150e+00 5.240e+00 4.740e+00 4.860e+00 7.450e+00 5.150e+00 5.140e+00\n",
            " 3.730e+00 4.880e+00 6.000e+00 6.740e+00 5.790e+00 9.610e+00 9.300e+00\n",
            " 6.360e+00 1.140e+01 7.100e+00 5.300e+00 5.630e+00 5.430e+00 9.240e+00\n",
            " 4.750e+00 4.930e+00 6.070e+00 9.390e+00 1.284e+01 6.910e+00 5.210e+00\n",
            " 5.880e+00 6.130e+00 4.410e+00 5.470e+00 6.350e+00 6.400e+00 6.970e+00\n",
            " 6.710e+00 6.550e+00 6.010e+00 6.640e+00 6.540e+00 6.450e+00 6.900e+00\n",
            " 7.280e+00 5.690e+00 8.180e+00 9.830e+00 1.622e+01 5.750e+00 1.064e+01\n",
            " 8.170e+00 9.820e+00 5.310e+00 5.350e+00 8.330e+00 8.790e+00 7.230e+00\n",
            " 4.960e+00 1.315e+01 5.320e+00 7.180e+00 1.436e+01 9.660e+00 6.170e+00\n",
            " 6.030e+00 5.700e+00 5.230e+00 1.348e+01 1.191e+01 5.190e+00 8.580e+00\n",
            " 5.740e+00 4.280e+00 1.060e+01 7.960e+00 1.172e+01 6.650e+00 1.324e+01\n",
            " 7.000e+00 8.070e+00 5.580e+00 7.120e+00 6.920e+00 1.603e+01 5.050e+00\n",
            " 7.040e+00 5.840e+00 1.034e+01 5.330e+00 7.050e+00 7.840e+00 7.660e+00\n",
            " 7.790e+00 5.990e+00 5.820e+00 8.160e+00 5.910e+00 5.770e+00 1.156e+01\n",
            " 7.640e+00 5.550e+00 7.650e+00 5.730e+00 5.860e+00 7.270e+00 6.590e+00\n",
            " 1.327e+01 4.970e+00 7.760e+00 6.210e+00 6.600e+00 6.580e+00 5.760e+00\n",
            " 7.500e+00 6.180e+00 6.270e+00 6.440e+00 6.870e+00 8.750e+00 8.950e+00\n",
            " 5.480e+00 7.330e+00 5.380e+00 1.039e+01 7.430e+00 7.190e+00 1.299e+01\n",
            " 8.870e+00 5.800e+00 5.500e+00 1.975e+01 6.290e+00 9.410e+00 1.254e+01\n",
            " 7.240e+00 1.028e+01 1.038e+01 8.920e+00 8.240e+00 1.086e+01 7.900e+00\n",
            " 8.570e+00 1.015e+01 8.740e+00 5.670e+00 5.100e+00 8.430e+00 1.782e+01\n",
            " 6.800e+00 8.680e+00 7.390e+00 7.470e+00 1.117e+01 6.940e+00 1.681e+01\n",
            " 7.670e+00 7.870e+00 7.550e+00 5.560e+00 9.530e+00 8.270e+00 6.110e+00\n",
            " 7.980e+00 8.060e+00 6.560e+00 7.030e+00 6.730e+00 6.960e+00 6.420e+00\n",
            " 8.320e+00 5.930e+00 6.340e+00 7.080e+00 9.740e+00 9.130e+00 6.060e+00\n",
            " 8.250e+00 8.380e+00 9.430e+00 7.200e+00 7.770e+00 7.690e+00 7.590e+00\n",
            " 7.130e+00 4.920e+00 9.970e+00 9.470e+00 6.240e+00 5.520e+00 7.940e+00\n",
            " 8.930e+00 7.260e+00 7.320e+00 1.168e+01 5.640e+00 8.690e+00 7.010e+00\n",
            " 8.000e+00 6.280e+00 7.920e+00 9.170e+00 8.640e+00 6.200e+00 6.480e+00\n",
            " 1.205e+01 7.340e+00 6.990e+00 7.700e+00 6.040e+00 1.077e+01 7.610e+00\n",
            " 1.012e+01 8.840e+00 8.290e+00 9.340e+00 7.560e+00 6.500e+00 7.210e+00\n",
            " 6.840e+00 9.360e+00 7.580e+00 8.310e+00 8.020e+00 8.720e+00 8.400e+00\n",
            " 7.420e+00 1.578e+01 7.990e+00 9.580e+00 8.970e+00 6.860e+00 8.620e+00\n",
            " 6.410e+00 7.410e+00 6.720e+00 1.311e+01 6.140e+00 7.250e+00 6.430e+00\n",
            " 8.350e+00 1.103e+01 7.830e+00 1.029e+01 9.090e+00 6.320e+00 6.670e+00\n",
            " 8.990e+00 9.620e+00 6.750e+00 1.067e+01 7.600e+00 8.440e+00 9.120e+00\n",
            " 8.510e+00 7.910e+00 2.094e+01 6.880e+00 6.830e+00 9.150e+00 7.110e+00\n",
            " 9.500e+00 9.290e+00 9.640e+00 1.005e+01 9.030e+00 1.330e+01 1.523e+01\n",
            " 9.080e+00 1.138e+01 7.360e+00 8.110e+00 9.330e+00 1.532e+01 7.890e+00\n",
            " 8.470e+00 8.030e+00 9.560e+00 8.500e+00 1.036e+01 9.930e+00 9.100e+00\n",
            " 9.230e+00 6.390e+00 8.450e+00 8.480e+00 9.680e+00 6.490e+00 7.170e+00\n",
            " 1.313e+01 9.850e+00 5.850e+01 2.795e+01 1.462e+01 6.690e+00 8.370e+00\n",
            " 6.630e+00 7.880e+00 7.850e+00 7.300e+00 7.020e+00 7.220e+00 7.290e+00\n",
            " 1.037e+01 9.210e+00 6.470e+00 1.212e+01 6.530e+00 1.121e+01 6.520e+00\n",
            " 9.070e+00 8.940e+00 1.200e+01 6.820e+00 8.730e+00 9.400e+00 1.017e+01\n",
            " 1.125e+01 7.160e+00 1.333e+01 1.056e+01 7.060e+00 9.000e+00 1.031e+01\n",
            " 1.400e+01 7.630e+00 1.211e+01 1.184e+01 1.114e+01 1.116e+01 9.780e+00\n",
            " 1.342e+01 1.023e+01 7.860e+00 1.171e+01 9.730e+00 1.091e+01 1.054e+01]\n",
            "[  6   2   1   4   3   5   7  13  28  11   8   9  52  18  15  19  10  39\n",
            "  26  29  12  21  96  14  34  43 121  37  49  31  91  16  87  33  23  50\n",
            "  20  25 232  17  47 103  65  30  27 327  32]\n",
            "[365 355 194   0 129 220 188   6  39 314 333  46 321  12  21 249 347 364\n",
            " 304 233  85  75 311  67 255 284 359 269 340  22  96 345 273 309  95 215\n",
            " 265 192 251 302 140 234 257  30 301 294 320 154 263 180 231 297 292 191\n",
            "  72 362 336 116  88 224 322 324 132 295 238 209 328  38   7 272  26 288\n",
            " 317 207 185 158   9 198 219 342 312 243 152 137 222 346 208 279 250 164\n",
            " 298 260 107 199 299  20 318 216 245 189 307 310 213 278  16 178 275 163\n",
            "  34 280   1 170 214 248 262 339  10 290 230  53 126   3  37 353 177 246\n",
            " 225  18 343 326 162 240 363 247 323 125  91 286  60  58 351 201 232 258\n",
            " 341 244 329 253 348   2  56  68 360  76  15 226 349  11 316 281 287  14\n",
            "  86 261 331  51 254 103  42 325  35 203   5 276 102  71  78   8 182  79\n",
            "  49 156 200 106 135  81 142 179  52 237 204 181 296 335 282 274  98 157\n",
            " 174 223 361 283 315  36 271 139 193 136 277 221 264 236  89  23 218 235\n",
            " 119 350 161 259  27 167 358  59 337  43  25 127 303 115 268  44  65 252\n",
            "  64 111  90 338  31 241 285 183  84 166  28  83 305 356 308 229 210 153\n",
            " 332 120 313  69 293   4 300  40 117 206 144 354  41 270 306  33  50  80\n",
            "  97 118 134  17 289 121 205  74  62  29 109 168 146 242 352 155 291 266\n",
            " 101 190 327 217 171 110  87 202  70 147 169 212 122 330  54 196  57  73\n",
            " 149 239  63 195  47 319  19 112 344  77 160 141  13  24 150 128 176 357\n",
            " 211 172 256 165  32 105 267 148  93  45 175 159  48 100 184 114 133 186\n",
            " 334  94 151 228 113  55  66 173 104 197  99 131 143 124 130 187 145 108\n",
            " 123  92  61 138 227  82]\n"
          ]
        }
      ]
    },
    {
      "cell_type": "markdown",
      "source": [
        "## 3. ***Data Wrangling***"
      ],
      "metadata": {
        "id": "dauF4eBmngu3"
      }
    },
    {
      "cell_type": "markdown",
      "source": [
        "### Data Wrangling Code"
      ],
      "metadata": {
        "id": "bKJF3rekwFvQ"
      }
    },
    {
      "cell_type": "code",
      "source": [
        "df.columns"
      ],
      "metadata": {
        "id": "qaqN6ND-wIvp",
        "colab": {
          "base_uri": "https://localhost:8080/"
        },
        "outputId": "8dbcd93d-da45-449e-fd9c-c7b2ed521f35"
      },
      "execution_count": 13,
      "outputs": [
        {
          "output_type": "execute_result",
          "data": {
            "text/plain": [
              "Index(['id', 'name', 'host_id', 'host_name', 'neighbourhood_group',\n",
              "       'neighbourhood', 'latitude', 'longitude', 'room_type', 'price',\n",
              "       'minimum_nights', 'number_of_reviews', 'last_review',\n",
              "       'reviews_per_month', 'calculated_host_listings_count',\n",
              "       'availability_365'],\n",
              "      dtype='object')"
            ]
          },
          "metadata": {},
          "execution_count": 13
        }
      ]
    },
    {
      "cell_type": "code",
      "source": [
        "# Write your code to make your dataset analysis ready.\n",
        "#dropping unessesary columns\n",
        "df_ready = df.drop(['latitude', 'longitude','last_review','reviews_per_month'], axis=1)\n",
        "\n",
        "#Handling missing values\n",
        "# Remove rows with missing values for 'name' and 'host_name' columns\n",
        "df_ready = df_ready.dropna(subset=['name', 'host_name'])\n",
        "\n",
        "\n",
        "\n"
      ],
      "metadata": {
        "id": "wk-9a2fpoLcV"
      },
      "execution_count": 14,
      "outputs": []
    },
    {
      "cell_type": "code",
      "source": [
        "#obj 1 : popular neighbourhood\n",
        "# Group the data by 'neighbourhood_group' and 'neighbourhood', and count the occurrences\n",
        "neighborhood_counts = df_ready.groupby(['neighbourhood_group', 'neighbourhood']).size().reset_index(name='count')\n",
        "\n",
        "# Sort the neighborhoods in descending order based on the count\n",
        "sorted_neighborhoods = neighborhood_counts.sort_values('count', ascending=False)\n",
        "\n",
        "# Print the top 10 most frequently listed neighborhoods\n",
        "top_neighborhoods = sorted_neighborhoods.head(10)\n",
        "print(top_neighborhoods)\n"
      ],
      "metadata": {
        "id": "gff6ECITwydw",
        "colab": {
          "base_uri": "https://localhost:8080/"
        },
        "outputId": "6122bb55-d3b2-42bb-f9f3-3e0d18b420d9"
      },
      "execution_count": 15,
      "outputs": [
        {
          "output_type": "stream",
          "name": "stdout",
          "text": [
            "    neighbourhood_group       neighbourhood  count\n",
            "93             Brooklyn        Williamsburg   3917\n",
            "50             Brooklyn  Bedford-Stuyvesant   3713\n",
            "105           Manhattan              Harlem   2655\n",
            "58             Brooklyn            Bushwick   2462\n",
            "124           Manhattan     Upper West Side   1969\n",
            "106           Manhattan      Hell's Kitchen   1954\n",
            "100           Manhattan        East Village   1852\n",
            "123           Manhattan     Upper East Side   1797\n",
            "65             Brooklyn       Crown Heights   1563\n",
            "112           Manhattan             Midtown   1545\n"
          ]
        }
      ]
    },
    {
      "cell_type": "code",
      "source": [
        "#obj 2\n",
        "busiest_hosts = df_ready.groupby(['host_name','host_id','room_type'])['number_of_reviews'].max().reset_index()\n",
        "busiest_hosts = busiest_hosts.sort_values(by='number_of_reviews', ascending=False).head(10)\n",
        "busiest_hosts"
      ],
      "metadata": {
        "id": "qzm5CD48U425",
        "colab": {
          "base_uri": "https://localhost:8080/",
          "height": 363
        },
        "outputId": "2652b336-acce-47d5-9b7f-8eebd3920217"
      },
      "execution_count": 16,
      "outputs": [
        {
          "output_type": "execute_result",
          "data": {
            "text/plain": [
              "      host_name   host_id        room_type  number_of_reviews\n",
              "10276      Dona  47621202     Private room                629\n",
              "17702        Jj   4734398     Private room                607\n",
              "25555      Maya  37312959     Private room                543\n",
              "6233      Carol   2369681     Private room                540\n",
              "8944   Danielle  26432133     Private room                510\n",
              "3948        Asa  12949460  Entire home/apt                488\n",
              "37733     Wanda    792159     Private room                480\n",
              "22489     Linda   2680820     Private room                474\n",
              "8622       Dani     42273  Entire home/apt                467\n",
              "2941     Angela  23591164     Private room                466"
            ],
            "text/html": [
              "\n",
              "\n",
              "  <div id=\"df-49276e89-90bb-4db6-a07a-45e460f95f50\">\n",
              "    <div class=\"colab-df-container\">\n",
              "      <div>\n",
              "<style scoped>\n",
              "    .dataframe tbody tr th:only-of-type {\n",
              "        vertical-align: middle;\n",
              "    }\n",
              "\n",
              "    .dataframe tbody tr th {\n",
              "        vertical-align: top;\n",
              "    }\n",
              "\n",
              "    .dataframe thead th {\n",
              "        text-align: right;\n",
              "    }\n",
              "</style>\n",
              "<table border=\"1\" class=\"dataframe\">\n",
              "  <thead>\n",
              "    <tr style=\"text-align: right;\">\n",
              "      <th></th>\n",
              "      <th>host_name</th>\n",
              "      <th>host_id</th>\n",
              "      <th>room_type</th>\n",
              "      <th>number_of_reviews</th>\n",
              "    </tr>\n",
              "  </thead>\n",
              "  <tbody>\n",
              "    <tr>\n",
              "      <th>10276</th>\n",
              "      <td>Dona</td>\n",
              "      <td>47621202</td>\n",
              "      <td>Private room</td>\n",
              "      <td>629</td>\n",
              "    </tr>\n",
              "    <tr>\n",
              "      <th>17702</th>\n",
              "      <td>Jj</td>\n",
              "      <td>4734398</td>\n",
              "      <td>Private room</td>\n",
              "      <td>607</td>\n",
              "    </tr>\n",
              "    <tr>\n",
              "      <th>25555</th>\n",
              "      <td>Maya</td>\n",
              "      <td>37312959</td>\n",
              "      <td>Private room</td>\n",
              "      <td>543</td>\n",
              "    </tr>\n",
              "    <tr>\n",
              "      <th>6233</th>\n",
              "      <td>Carol</td>\n",
              "      <td>2369681</td>\n",
              "      <td>Private room</td>\n",
              "      <td>540</td>\n",
              "    </tr>\n",
              "    <tr>\n",
              "      <th>8944</th>\n",
              "      <td>Danielle</td>\n",
              "      <td>26432133</td>\n",
              "      <td>Private room</td>\n",
              "      <td>510</td>\n",
              "    </tr>\n",
              "    <tr>\n",
              "      <th>3948</th>\n",
              "      <td>Asa</td>\n",
              "      <td>12949460</td>\n",
              "      <td>Entire home/apt</td>\n",
              "      <td>488</td>\n",
              "    </tr>\n",
              "    <tr>\n",
              "      <th>37733</th>\n",
              "      <td>Wanda</td>\n",
              "      <td>792159</td>\n",
              "      <td>Private room</td>\n",
              "      <td>480</td>\n",
              "    </tr>\n",
              "    <tr>\n",
              "      <th>22489</th>\n",
              "      <td>Linda</td>\n",
              "      <td>2680820</td>\n",
              "      <td>Private room</td>\n",
              "      <td>474</td>\n",
              "    </tr>\n",
              "    <tr>\n",
              "      <th>8622</th>\n",
              "      <td>Dani</td>\n",
              "      <td>42273</td>\n",
              "      <td>Entire home/apt</td>\n",
              "      <td>467</td>\n",
              "    </tr>\n",
              "    <tr>\n",
              "      <th>2941</th>\n",
              "      <td>Angela</td>\n",
              "      <td>23591164</td>\n",
              "      <td>Private room</td>\n",
              "      <td>466</td>\n",
              "    </tr>\n",
              "  </tbody>\n",
              "</table>\n",
              "</div>\n",
              "      <button class=\"colab-df-convert\" onclick=\"convertToInteractive('df-49276e89-90bb-4db6-a07a-45e460f95f50')\"\n",
              "              title=\"Convert this dataframe to an interactive table.\"\n",
              "              style=\"display:none;\">\n",
              "\n",
              "  <svg xmlns=\"http://www.w3.org/2000/svg\" height=\"24px\"viewBox=\"0 0 24 24\"\n",
              "       width=\"24px\">\n",
              "    <path d=\"M0 0h24v24H0V0z\" fill=\"none\"/>\n",
              "    <path d=\"M18.56 5.44l.94 2.06.94-2.06 2.06-.94-2.06-.94-.94-2.06-.94 2.06-2.06.94zm-11 1L8.5 8.5l.94-2.06 2.06-.94-2.06-.94L8.5 2.5l-.94 2.06-2.06.94zm10 10l.94 2.06.94-2.06 2.06-.94-2.06-.94-.94-2.06-.94 2.06-2.06.94z\"/><path d=\"M17.41 7.96l-1.37-1.37c-.4-.4-.92-.59-1.43-.59-.52 0-1.04.2-1.43.59L10.3 9.45l-7.72 7.72c-.78.78-.78 2.05 0 2.83L4 21.41c.39.39.9.59 1.41.59.51 0 1.02-.2 1.41-.59l7.78-7.78 2.81-2.81c.8-.78.8-2.07 0-2.86zM5.41 20L4 18.59l7.72-7.72 1.47 1.35L5.41 20z\"/>\n",
              "  </svg>\n",
              "      </button>\n",
              "\n",
              "\n",
              "\n",
              "    <div id=\"df-0da2e18a-bede-428f-8bbb-7bdf38131b41\">\n",
              "      <button class=\"colab-df-quickchart\" onclick=\"quickchart('df-0da2e18a-bede-428f-8bbb-7bdf38131b41')\"\n",
              "              title=\"Suggest charts.\"\n",
              "              style=\"display:none;\">\n",
              "\n",
              "<svg xmlns=\"http://www.w3.org/2000/svg\" height=\"24px\"viewBox=\"0 0 24 24\"\n",
              "     width=\"24px\">\n",
              "    <g>\n",
              "        <path d=\"M19 3H5c-1.1 0-2 .9-2 2v14c0 1.1.9 2 2 2h14c1.1 0 2-.9 2-2V5c0-1.1-.9-2-2-2zM9 17H7v-7h2v7zm4 0h-2V7h2v10zm4 0h-2v-4h2v4z\"/>\n",
              "    </g>\n",
              "</svg>\n",
              "      </button>\n",
              "    </div>\n",
              "\n",
              "<style>\n",
              "  .colab-df-quickchart {\n",
              "    background-color: #E8F0FE;\n",
              "    border: none;\n",
              "    border-radius: 50%;\n",
              "    cursor: pointer;\n",
              "    display: none;\n",
              "    fill: #1967D2;\n",
              "    height: 32px;\n",
              "    padding: 0 0 0 0;\n",
              "    width: 32px;\n",
              "  }\n",
              "\n",
              "  .colab-df-quickchart:hover {\n",
              "    background-color: #E2EBFA;\n",
              "    box-shadow: 0px 1px 2px rgba(60, 64, 67, 0.3), 0px 1px 3px 1px rgba(60, 64, 67, 0.15);\n",
              "    fill: #174EA6;\n",
              "  }\n",
              "\n",
              "  [theme=dark] .colab-df-quickchart {\n",
              "    background-color: #3B4455;\n",
              "    fill: #D2E3FC;\n",
              "  }\n",
              "\n",
              "  [theme=dark] .colab-df-quickchart:hover {\n",
              "    background-color: #434B5C;\n",
              "    box-shadow: 0px 1px 3px 1px rgba(0, 0, 0, 0.15);\n",
              "    filter: drop-shadow(0px 1px 2px rgba(0, 0, 0, 0.3));\n",
              "    fill: #FFFFFF;\n",
              "  }\n",
              "</style>\n",
              "\n",
              "    <script>\n",
              "      async function quickchart(key) {\n",
              "        const containerElement = document.querySelector('#' + key);\n",
              "        const charts = await google.colab.kernel.invokeFunction(\n",
              "            'suggestCharts', [key], {});\n",
              "      }\n",
              "    </script>\n",
              "\n",
              "      <script>\n",
              "\n",
              "function displayQuickchartButton(domScope) {\n",
              "  let quickchartButtonEl =\n",
              "    domScope.querySelector('#df-0da2e18a-bede-428f-8bbb-7bdf38131b41 button.colab-df-quickchart');\n",
              "  quickchartButtonEl.style.display =\n",
              "    google.colab.kernel.accessAllowed ? 'block' : 'none';\n",
              "}\n",
              "\n",
              "        displayQuickchartButton(document);\n",
              "      </script>\n",
              "      <style>\n",
              "    .colab-df-container {\n",
              "      display:flex;\n",
              "      flex-wrap:wrap;\n",
              "      gap: 12px;\n",
              "    }\n",
              "\n",
              "    .colab-df-convert {\n",
              "      background-color: #E8F0FE;\n",
              "      border: none;\n",
              "      border-radius: 50%;\n",
              "      cursor: pointer;\n",
              "      display: none;\n",
              "      fill: #1967D2;\n",
              "      height: 32px;\n",
              "      padding: 0 0 0 0;\n",
              "      width: 32px;\n",
              "    }\n",
              "\n",
              "    .colab-df-convert:hover {\n",
              "      background-color: #E2EBFA;\n",
              "      box-shadow: 0px 1px 2px rgba(60, 64, 67, 0.3), 0px 1px 3px 1px rgba(60, 64, 67, 0.15);\n",
              "      fill: #174EA6;\n",
              "    }\n",
              "\n",
              "    [theme=dark] .colab-df-convert {\n",
              "      background-color: #3B4455;\n",
              "      fill: #D2E3FC;\n",
              "    }\n",
              "\n",
              "    [theme=dark] .colab-df-convert:hover {\n",
              "      background-color: #434B5C;\n",
              "      box-shadow: 0px 1px 3px 1px rgba(0, 0, 0, 0.15);\n",
              "      filter: drop-shadow(0px 1px 2px rgba(0, 0, 0, 0.3));\n",
              "      fill: #FFFFFF;\n",
              "    }\n",
              "  </style>\n",
              "\n",
              "      <script>\n",
              "        const buttonEl =\n",
              "          document.querySelector('#df-49276e89-90bb-4db6-a07a-45e460f95f50 button.colab-df-convert');\n",
              "        buttonEl.style.display =\n",
              "          google.colab.kernel.accessAllowed ? 'block' : 'none';\n",
              "\n",
              "        async function convertToInteractive(key) {\n",
              "          const element = document.querySelector('#df-49276e89-90bb-4db6-a07a-45e460f95f50');\n",
              "          const dataTable =\n",
              "            await google.colab.kernel.invokeFunction('convertToInteractive',\n",
              "                                                     [key], {});\n",
              "          if (!dataTable) return;\n",
              "\n",
              "          const docLinkHtml = 'Like what you see? Visit the ' +\n",
              "            '<a target=\"_blank\" href=https://colab.research.google.com/notebooks/data_table.ipynb>data table notebook</a>'\n",
              "            + ' to learn more about interactive tables.';\n",
              "          element.innerHTML = '';\n",
              "          dataTable['output_type'] = 'display_data';\n",
              "          await google.colab.output.renderOutput(dataTable, element);\n",
              "          const docLink = document.createElement('div');\n",
              "          docLink.innerHTML = docLinkHtml;\n",
              "          element.appendChild(docLink);\n",
              "        }\n",
              "      </script>\n",
              "    </div>\n",
              "  </div>\n"
            ]
          },
          "metadata": {},
          "execution_count": 16
        }
      ]
    },
    {
      "cell_type": "code",
      "source": [
        "#obj 3  price ,   reviews co-relation\n",
        "price_area = df_ready.groupby(['price'])['number_of_reviews'].max().reset_index()\n",
        "price_area.head(5)"
      ],
      "metadata": {
        "id": "WA53NfEmaTtF",
        "colab": {
          "base_uri": "https://localhost:8080/",
          "height": 206
        },
        "outputId": "3d3b5ef0-c622-47bb-9c35-fc159db46c3c"
      },
      "execution_count": 17,
      "outputs": [
        {
          "output_type": "execute_result",
          "data": {
            "text/plain": [
              "   price  number_of_reviews\n",
              "0      0                 95\n",
              "1     10                 93\n",
              "2     11                113\n",
              "3     12                  8\n",
              "4     13                  9"
            ],
            "text/html": [
              "\n",
              "\n",
              "  <div id=\"df-3ce7134e-c6b9-4388-975d-b8962615a01c\">\n",
              "    <div class=\"colab-df-container\">\n",
              "      <div>\n",
              "<style scoped>\n",
              "    .dataframe tbody tr th:only-of-type {\n",
              "        vertical-align: middle;\n",
              "    }\n",
              "\n",
              "    .dataframe tbody tr th {\n",
              "        vertical-align: top;\n",
              "    }\n",
              "\n",
              "    .dataframe thead th {\n",
              "        text-align: right;\n",
              "    }\n",
              "</style>\n",
              "<table border=\"1\" class=\"dataframe\">\n",
              "  <thead>\n",
              "    <tr style=\"text-align: right;\">\n",
              "      <th></th>\n",
              "      <th>price</th>\n",
              "      <th>number_of_reviews</th>\n",
              "    </tr>\n",
              "  </thead>\n",
              "  <tbody>\n",
              "    <tr>\n",
              "      <th>0</th>\n",
              "      <td>0</td>\n",
              "      <td>95</td>\n",
              "    </tr>\n",
              "    <tr>\n",
              "      <th>1</th>\n",
              "      <td>10</td>\n",
              "      <td>93</td>\n",
              "    </tr>\n",
              "    <tr>\n",
              "      <th>2</th>\n",
              "      <td>11</td>\n",
              "      <td>113</td>\n",
              "    </tr>\n",
              "    <tr>\n",
              "      <th>3</th>\n",
              "      <td>12</td>\n",
              "      <td>8</td>\n",
              "    </tr>\n",
              "    <tr>\n",
              "      <th>4</th>\n",
              "      <td>13</td>\n",
              "      <td>9</td>\n",
              "    </tr>\n",
              "  </tbody>\n",
              "</table>\n",
              "</div>\n",
              "      <button class=\"colab-df-convert\" onclick=\"convertToInteractive('df-3ce7134e-c6b9-4388-975d-b8962615a01c')\"\n",
              "              title=\"Convert this dataframe to an interactive table.\"\n",
              "              style=\"display:none;\">\n",
              "\n",
              "  <svg xmlns=\"http://www.w3.org/2000/svg\" height=\"24px\"viewBox=\"0 0 24 24\"\n",
              "       width=\"24px\">\n",
              "    <path d=\"M0 0h24v24H0V0z\" fill=\"none\"/>\n",
              "    <path d=\"M18.56 5.44l.94 2.06.94-2.06 2.06-.94-2.06-.94-.94-2.06-.94 2.06-2.06.94zm-11 1L8.5 8.5l.94-2.06 2.06-.94-2.06-.94L8.5 2.5l-.94 2.06-2.06.94zm10 10l.94 2.06.94-2.06 2.06-.94-2.06-.94-.94-2.06-.94 2.06-2.06.94z\"/><path d=\"M17.41 7.96l-1.37-1.37c-.4-.4-.92-.59-1.43-.59-.52 0-1.04.2-1.43.59L10.3 9.45l-7.72 7.72c-.78.78-.78 2.05 0 2.83L4 21.41c.39.39.9.59 1.41.59.51 0 1.02-.2 1.41-.59l7.78-7.78 2.81-2.81c.8-.78.8-2.07 0-2.86zM5.41 20L4 18.59l7.72-7.72 1.47 1.35L5.41 20z\"/>\n",
              "  </svg>\n",
              "      </button>\n",
              "\n",
              "\n",
              "\n",
              "    <div id=\"df-e6fa5920-8f2c-4797-aed6-30dc8b1c8bda\">\n",
              "      <button class=\"colab-df-quickchart\" onclick=\"quickchart('df-e6fa5920-8f2c-4797-aed6-30dc8b1c8bda')\"\n",
              "              title=\"Suggest charts.\"\n",
              "              style=\"display:none;\">\n",
              "\n",
              "<svg xmlns=\"http://www.w3.org/2000/svg\" height=\"24px\"viewBox=\"0 0 24 24\"\n",
              "     width=\"24px\">\n",
              "    <g>\n",
              "        <path d=\"M19 3H5c-1.1 0-2 .9-2 2v14c0 1.1.9 2 2 2h14c1.1 0 2-.9 2-2V5c0-1.1-.9-2-2-2zM9 17H7v-7h2v7zm4 0h-2V7h2v10zm4 0h-2v-4h2v4z\"/>\n",
              "    </g>\n",
              "</svg>\n",
              "      </button>\n",
              "    </div>\n",
              "\n",
              "<style>\n",
              "  .colab-df-quickchart {\n",
              "    background-color: #E8F0FE;\n",
              "    border: none;\n",
              "    border-radius: 50%;\n",
              "    cursor: pointer;\n",
              "    display: none;\n",
              "    fill: #1967D2;\n",
              "    height: 32px;\n",
              "    padding: 0 0 0 0;\n",
              "    width: 32px;\n",
              "  }\n",
              "\n",
              "  .colab-df-quickchart:hover {\n",
              "    background-color: #E2EBFA;\n",
              "    box-shadow: 0px 1px 2px rgba(60, 64, 67, 0.3), 0px 1px 3px 1px rgba(60, 64, 67, 0.15);\n",
              "    fill: #174EA6;\n",
              "  }\n",
              "\n",
              "  [theme=dark] .colab-df-quickchart {\n",
              "    background-color: #3B4455;\n",
              "    fill: #D2E3FC;\n",
              "  }\n",
              "\n",
              "  [theme=dark] .colab-df-quickchart:hover {\n",
              "    background-color: #434B5C;\n",
              "    box-shadow: 0px 1px 3px 1px rgba(0, 0, 0, 0.15);\n",
              "    filter: drop-shadow(0px 1px 2px rgba(0, 0, 0, 0.3));\n",
              "    fill: #FFFFFF;\n",
              "  }\n",
              "</style>\n",
              "\n",
              "    <script>\n",
              "      async function quickchart(key) {\n",
              "        const containerElement = document.querySelector('#' + key);\n",
              "        const charts = await google.colab.kernel.invokeFunction(\n",
              "            'suggestCharts', [key], {});\n",
              "      }\n",
              "    </script>\n",
              "\n",
              "      <script>\n",
              "\n",
              "function displayQuickchartButton(domScope) {\n",
              "  let quickchartButtonEl =\n",
              "    domScope.querySelector('#df-e6fa5920-8f2c-4797-aed6-30dc8b1c8bda button.colab-df-quickchart');\n",
              "  quickchartButtonEl.style.display =\n",
              "    google.colab.kernel.accessAllowed ? 'block' : 'none';\n",
              "}\n",
              "\n",
              "        displayQuickchartButton(document);\n",
              "      </script>\n",
              "      <style>\n",
              "    .colab-df-container {\n",
              "      display:flex;\n",
              "      flex-wrap:wrap;\n",
              "      gap: 12px;\n",
              "    }\n",
              "\n",
              "    .colab-df-convert {\n",
              "      background-color: #E8F0FE;\n",
              "      border: none;\n",
              "      border-radius: 50%;\n",
              "      cursor: pointer;\n",
              "      display: none;\n",
              "      fill: #1967D2;\n",
              "      height: 32px;\n",
              "      padding: 0 0 0 0;\n",
              "      width: 32px;\n",
              "    }\n",
              "\n",
              "    .colab-df-convert:hover {\n",
              "      background-color: #E2EBFA;\n",
              "      box-shadow: 0px 1px 2px rgba(60, 64, 67, 0.3), 0px 1px 3px 1px rgba(60, 64, 67, 0.15);\n",
              "      fill: #174EA6;\n",
              "    }\n",
              "\n",
              "    [theme=dark] .colab-df-convert {\n",
              "      background-color: #3B4455;\n",
              "      fill: #D2E3FC;\n",
              "    }\n",
              "\n",
              "    [theme=dark] .colab-df-convert:hover {\n",
              "      background-color: #434B5C;\n",
              "      box-shadow: 0px 1px 3px 1px rgba(0, 0, 0, 0.15);\n",
              "      filter: drop-shadow(0px 1px 2px rgba(0, 0, 0, 0.3));\n",
              "      fill: #FFFFFF;\n",
              "    }\n",
              "  </style>\n",
              "\n",
              "      <script>\n",
              "        const buttonEl =\n",
              "          document.querySelector('#df-3ce7134e-c6b9-4388-975d-b8962615a01c button.colab-df-convert');\n",
              "        buttonEl.style.display =\n",
              "          google.colab.kernel.accessAllowed ? 'block' : 'none';\n",
              "\n",
              "        async function convertToInteractive(key) {\n",
              "          const element = document.querySelector('#df-3ce7134e-c6b9-4388-975d-b8962615a01c');\n",
              "          const dataTable =\n",
              "            await google.colab.kernel.invokeFunction('convertToInteractive',\n",
              "                                                     [key], {});\n",
              "          if (!dataTable) return;\n",
              "\n",
              "          const docLinkHtml = 'Like what you see? Visit the ' +\n",
              "            '<a target=\"_blank\" href=https://colab.research.google.com/notebooks/data_table.ipynb>data table notebook</a>'\n",
              "            + ' to learn more about interactive tables.';\n",
              "          element.innerHTML = '';\n",
              "          dataTable['output_type'] = 'display_data';\n",
              "          await google.colab.output.renderOutput(dataTable, element);\n",
              "          const docLink = document.createElement('div');\n",
              "          docLink.innerHTML = docLinkHtml;\n",
              "          element.appendChild(docLink);\n",
              "        }\n",
              "      </script>\n",
              "    </div>\n",
              "  </div>\n"
            ]
          },
          "metadata": {},
          "execution_count": 17
        }
      ]
    },
    {
      "cell_type": "markdown",
      "source": [
        "### What all manipulations have you done and insights you found?"
      ],
      "metadata": {
        "id": "MSa1f5Uengrz"
      }
    },
    {
      "cell_type": "markdown",
      "source": [
        "Answer Here:   \n",
        "1. Irrelevant Columns Removed: The dataset was streamlined by excluding 'latitude', 'longitude', 'number_of_reviews', 'last_review', and 'reviews_per_month'.\n",
        "\n",
        "2. Missing Data Addressed: Entries lacking values in 'name' and 'host_name' columns were eliminated to ensure data completeness."
      ],
      "metadata": {
        "id": "LbyXE7I1olp8"
      }
    },
    {
      "cell_type": "markdown",
      "source": [
        "## ***4. Data Vizualization, Storytelling & Experimenting with charts : Understand the relationships between variables***"
      ],
      "metadata": {
        "id": "GF8Ens_Soomf"
      }
    },
    {
      "cell_type": "markdown",
      "source": [
        "#### Chart - 1  Top Neighborhoods by Listing Count"
      ],
      "metadata": {
        "id": "0wOQAZs5pc--"
      }
    },
    {
      "cell_type": "code",
      "source": [
        "# Chart - 1 Popular Neighborhoods\n",
        "plt.figure(figsize=(10, 6))\n",
        "plt.bar(top_neighborhoods['neighbourhood'], top_neighborhoods['count'])\n",
        "plt.xlabel('Neighborhood')\n",
        "plt.ylabel('Count')\n",
        "plt.title('Top Neighborhoods by Listing Count')\n",
        "plt.xticks(rotation=45)\n",
        "plt.tight_layout()\n",
        "\n",
        "# Display the plot\n",
        "plt.show()"
      ],
      "metadata": {
        "id": "7v_ESjsspbW7",
        "colab": {
          "base_uri": "https://localhost:8080/",
          "height": 607
        },
        "outputId": "1423061c-fcf8-4c35-a8a9-d6489d23cc5e"
      },
      "execution_count": 18,
      "outputs": [
        {
          "output_type": "display_data",
          "data": {
            "text/plain": [
              "<Figure size 1000x600 with 1 Axes>"
            ],
            "image/png": "[encoded data removed]"
          },
          "metadata": {}
        }
      ]
    },
    {
      "cell_type": "markdown",
      "source": [
        "##### 1. Why did you pick the specific chart?"
      ],
      "metadata": {
        "id": "K5QZ13OEpz2H"
      }
    },
    {
      "cell_type": "markdown",
      "source": [
        "Answer Here.\n",
        "A bar plot was used as the chart. A bar plot is ideal for visualising categorical data, such as neighbourhood names. Each neighbourhood is represented by a distinct bar, making it simple to compare their characteristics.The bar plot clearly visualises the counts linked with each neighbourhood. The length of each bar corresponds directly to the count, allowing stakeholders to easily understand the relative popularity of the neighbourhoods. A bar plot is useful for highlighting the best neighbourhoods by providing a visual ranking. The vertical orientation of the bars allows for simple comparison of heights and identification of the neighbourhoods with the greatest counts.\n"
      ],
      "metadata": {
        "id": "XESiWehPqBRc"
      }
    },
    {
      "cell_type": "markdown",
      "source": [
        "##### 2. What is/are the insight(s) found from the chart?"
      ],
      "metadata": {
        "id": "lQ7QKXXCp7Bj"
      }
    },
    {
      "cell_type": "markdown",
      "source": [
        "Answer Here .\n",
        "This figure allows us to identify high-demand neighbourhoods based on the data. Stakeholders must prioritise their investments and resources in these attractive neighbourhoods in order to maximise their bookings and income potential. They can identify locations of high demand.\n"
      ],
      "metadata": {
        "id": "C_j1G7yiqdRP"
      }
    },
    {
      "cell_type": "markdown",
      "source": [
        "##### 3. Will the gained insights help creating a positive business impact?\n",
        "Are there any insights that lead to negative growth? Justify with specific reason."
      ],
      "metadata": {
        "id": "448CDAPjqfQr"
      }
    },
    {
      "cell_type": "markdown",
      "source": [
        "Answer Here :\n",
        "Brooklyn and Manhattan emerge as the most popular boroughs, with a diverse range of neighbourhoods attracting people . Williamsburg, Bedford-Stuyvesant, Bushwick, and Crown Heights stand out in Brooklyn, while Harlem, Upper West Side, Hell's Kitchen, East Village, and Upper East Side are popular in Manhattan. This information identifies potential business opportunities for stakeholders to invest in and expand in these neighbourhoods. However, stakeholders must be aware of the competitiveness particularly in Manhattan, and should target customers."
      ],
      "metadata": {
        "id": "3cspy4FjqxJW"
      }
    },
    {
      "cell_type": "markdown",
      "source": [
        "####Chart - 2 BUSIEST HOSTS"
      ],
      "metadata": {
        "id": "KSlN3yHqYklG"
      }
    },
    {
      "cell_type": "code",
      "source": [
        "# Chart - 2 visualization code\n",
        "name = busiest_hosts['host_name']\n",
        "reviews = busiest_hosts['number_of_reviews']\n",
        "\n",
        "fig = plt.figure(figsize = (10, 5))\n",
        "\n",
        "# creating the bar plot\n",
        "plt.bar(name, reviews, color ='maroon',\n",
        "        width = 0.4)\n",
        "\n",
        "plt.xlabel(\"Name of the Host\")\n",
        "plt.ylabel(\"Number of Reviews\")\n",
        "plt.title(\"Busiest Hosts\")\n",
        "plt.show()"
      ],
      "metadata": {
        "id": "R4YgtaqtYklH",
        "colab": {
          "base_uri": "https://localhost:8080/",
          "height": 487
        },
        "outputId": "cb10f18a-ca2c-463b-e266-d00ef006ad89"
      },
      "execution_count": 19,
      "outputs": [
        {
          "output_type": "display_data",
          "data": {
            "text/plain": [
              "<Figure size 1000x500 with 1 Axes>"
            ],
            "image/png": "[encoded data removed]"
          },
          "metadata": {}
        }
      ]
    },
    {
      "cell_type": "markdown",
      "source": [
        "##### 1. Why did you pick the specific chart?"
      ],
      "metadata": {
        "id": "t6dVpIINYklI"
      }
    },
    {
      "cell_type": "markdown",
      "source": [
        "Answer Here:   \n",
        "because bar plot helps us in comparing the name of our hosts with their review count ."
      ],
      "metadata": {
        "id": "5aaW0BYyYklI"
      }
    },
    {
      "cell_type": "markdown",
      "source": [
        "##### 2. What is/are the insight(s) found from the chart?"
      ],
      "metadata": {
        "id": "ijmpgYnKYklI"
      }
    },
    {
      "cell_type": "markdown",
      "source": [
        "Answer Here:\n",
        "the top hosts are identified based on their review count . the top hosts are dona,ji,maya,carol,danielle . these particular hosts have the highest reviews to them selves."
      ],
      "metadata": {
        "id": "PSx9atu2YklI"
      }
    },
    {
      "cell_type": "markdown",
      "source": [
        "##### 3. Will the gained insights help creating a positive business impact?\n",
        "Are there any insights that lead to negative growth? Justify with specific reason."
      ],
      "metadata": {
        "id": "-JiQyfWJYklI"
      }
    },
    {
      "cell_type": "markdown",
      "source": [
        "Answer Here :   \n",
        "through this we can identify the key hosts who are very popular and in demand by concentrating on these particular hosts by further collaboration or better improved deals the company can better provide services to customers and generate better profits for the share holders this helps us in generating a positive buisiness impact . although concentrating on these hosts is good but , neglecting hosts from other neighbourhoods may lead to negative business impact ."
      ],
      "metadata": {
        "id": "BcBbebzrYklV"
      }
    },
    {
      "cell_type": "markdown",
      "source": [
        "#### Chart - 3 prices,  reviews co-relation"
      ],
      "metadata": {
        "id": "EM7whBJCYoAo"
      }
    },
    {
      "cell_type": "code",
      "source": [
        "# Chart - 3 visualization code\n",
        "area = price_area['price']\n",
        "price = price_area['number_of_reviews']\n",
        "\n",
        "fig = plt.figure(figsize = (10, 5))\n",
        "\n",
        "# creating the bar plot\n",
        "plt.scatter(area, price)\n",
        "\n",
        "plt.xlabel(\"Price\")\n",
        "plt.ylabel(\"Number of Review\")\n",
        "plt.title(\"Price vs Number of Reviews\")\n",
        "plt.show()"
      ],
      "metadata": {
        "id": "t6GMdE67YoAp",
        "colab": {
          "base_uri": "https://localhost:8080/",
          "height": 487
        },
        "outputId": "5f201ecd-50ef-4ee3-d712-b2d01f7d9997"
      },
      "execution_count": 20,
      "outputs": [
        {
          "output_type": "display_data",
          "data": {
            "text/plain": [
              "<Figure size 1000x500 with 1 Axes>"
            ],
            "image/png": "[encoded data removed]"
          },
          "metadata": {}
        }
      ]
    },
    {
      "cell_type": "markdown",
      "source": [
        "##### 1. Why did you pick the specific chart?"
      ],
      "metadata": {
        "id": "fge-S5ZAYoAp"
      }
    },
    {
      "cell_type": "markdown",
      "source": [
        "Answer Here.\n",
        "scatter plot helps us to see the diffrent concentration of reviews based on the diffrent price ranges available ."
      ],
      "metadata": {
        "id": "5dBItgRVYoAp"
      }
    },
    {
      "cell_type": "markdown",
      "source": [
        "##### 2. What is/are the insight(s) found from the chart?"
      ],
      "metadata": {
        "id": "85gYPyotYoAp"
      }
    },
    {
      "cell_type": "markdown",
      "source": [
        "Answer Here\n",
        "from the generated scatter plot of prices and reviews co relation it can be observe that customers prefer to stay at places where prices are less ."
      ],
      "metadata": {
        "id": "4jstXR6OYoAp"
      }
    },
    {
      "cell_type": "markdown",
      "source": [
        "##### 3. Will the gained insights help creating a positive business impact?\n",
        "Are there any insights that lead to negative growth? Justify with specific reason."
      ],
      "metadata": {
        "id": "RoGjAbkUYoAp"
      }
    },
    {
      "cell_type": "markdown",
      "source": [
        "Answer Here 🇰\n",
        "we can observe a pattern in which it can be understood how cutomers are making bookings based on the price ranges and how competetive pricings can help us to grab more customers ."
      ],
      "metadata": {
        "id": "zfJ8IqMcYoAp"
      }
    },
    {
      "cell_type": "markdown",
      "source": [
        "#### Chart - 4 Co-relation between Number of Nights Stayed and Room Type"
      ],
      "metadata": {
        "id": "4Of9eVA-YrdM"
      }
    },
    {
      "cell_type": "code",
      "source": [
        "# Chart - 4 visualization code\n",
        "\n",
        "# Group the data by room type and calculate the median minimum nights\n",
        "room_type_min_nights = df_ready.groupby('room_type')['minimum_nights'].median()\n",
        "\n",
        "# Plotting the box plot\n",
        "plt.figure(figsize=(10, 6))\n",
        "bars = len(room_type_min_nights)\n",
        "x_pos = np.arange(bars)\n",
        "plt.bar(x_pos, room_type_min_nights.values, align='center')\n",
        "plt.xticks(x_pos, room_type_min_nights.index)\n",
        "plt.xlabel('Room Type')\n",
        "plt.ylabel('Minimum Nights')\n",
        "plt.title('Co-relation between Number of Nights Stayed and Room Type')\n",
        "plt.show()"
      ],
      "metadata": {
        "id": "irlUoxc8YrdO",
        "colab": {
          "base_uri": "https://localhost:8080/",
          "height": 0
        },
        "outputId": "f6628119-c353-4a14-c3d9-9b2a57fd7d7f"
      },
      "execution_count": 21,
      "outputs": [
        {
          "output_type": "display_data",
          "data": {
            "text/plain": [
              "<Figure size 1000x600 with 1 Axes>"
            ],
            "image/png": "[encoded data removed]"
          },
          "metadata": {}
        }
      ]
    },
    {
      "cell_type": "markdown",
      "source": [
        "##### 1. Why did you pick the specific chart?"
      ],
      "metadata": {
        "id": "iky9q4vBYrdO"
      }
    },
    {
      "cell_type": "markdown",
      "source": [
        "Answer Here."
      ],
      "metadata": {
        "id": "aJRCwT6DYrdO"
      }
    },
    {
      "cell_type": "markdown",
      "source": [
        "##### 2. What is/are the insight(s) found from the chart?"
      ],
      "metadata": {
        "id": "F6T5p64dYrdO"
      }
    },
    {
      "cell_type": "markdown",
      "source": [
        "Answer Here\n",
        "from the chart we can observe that customers love to stay more days at entire home when compared to private rooms and are least intreated to stay at shared rooms"
      ],
      "metadata": {
        "id": "Xx8WAJvtYrdO"
      }
    },
    {
      "cell_type": "markdown",
      "source": [
        "##### 3. Will the gained insights help creating a positive business impact?\n",
        "Are there any insights that lead to negative growth? Justify with specific reason."
      ],
      "metadata": {
        "id": "y-Ehk30pYrdP"
      }
    },
    {
      "cell_type": "markdown",
      "source": [
        "Answer Here :     \n",
        "from the insights the company can effectively market to the customers by providing better deals for entire homes which inturn makes the customer more incline to stay at the stay longer by using the insights to focus on high preferred homes company can generate postive impact"
      ],
      "metadata": {
        "id": "jLNxxz7MYrdP"
      }
    },
    {
      "cell_type": "markdown",
      "source": [
        "#### Chart - 5 Top 10 Neighborhoods with Highest Average Prices"
      ],
      "metadata": {
        "id": "bamQiAODYuh1"
      }
    },
    {
      "cell_type": "code",
      "source": [
        "# Chart - 5 visualization code\n",
        "# Group the data by neighborhood and calculate the average price\n",
        "neighborhood_prices = df_ready.groupby('neighbourhood')['price'].mean().sort_values(ascending=False)\n",
        "\n",
        "# Plotting the bar chart\n",
        "plt.figure(figsize=(12, 6))\n",
        "neighborhood_prices[:10].plot(kind='bar')\n",
        "plt.xlabel('Neighborhood')\n",
        "plt.ylabel('Average Price')\n",
        "plt.title('Neighborhood Popularity by Price: Top 10 Neighborhoods with Highest Average Prices')\n",
        "plt.xticks(rotation=45)\n",
        "plt.show()"
      ],
      "metadata": {
        "id": "TIJwrbroYuh3",
        "colab": {
          "base_uri": "https://localhost:8080/",
          "height": 644
        },
        "outputId": "476fd037-7a40-4f44-dca5-1d99299ee1b8"
      },
      "execution_count": 22,
      "outputs": [
        {
          "output_type": "display_data",
          "data": {
            "text/plain": [
              "<Figure size 1200x600 with 1 Axes>"
            ],
            "image/png": "[encoded data removed]"
          },
          "metadata": {}
        }
      ]
    },
    {
      "cell_type": "markdown",
      "source": [
        "##### 1. Why did you pick the specific chart?"
      ],
      "metadata": {
        "id": "QHF8YVU7Yuh3"
      }
    },
    {
      "cell_type": "markdown",
      "source": [
        "Answer Here."
      ],
      "metadata": {
        "id": "dcxuIMRPYuh3"
      }
    },
    {
      "cell_type": "markdown",
      "source": [
        "##### 2. What is/are the insight(s) found from the chart?"
      ],
      "metadata": {
        "id": "GwzvFGzlYuh3"
      }
    },
    {
      "cell_type": "markdown",
      "source": [
        "Answer  Here:                                                                           \n",
        "from this chart we can observe the neighborhood with highest prices this helps us to understand that the prices in these parts are very high compared to other places."
      ],
      "metadata": {
        "id": "uyqkiB8YYuh3"
      }
    },
    {
      "cell_type": "markdown",
      "source": [
        "##### 3. Will the gained insights help creating a positive business impact?\n",
        "Are there any insights that lead to negative growth? Justify with specific reason."
      ],
      "metadata": {
        "id": "qYpmQ266Yuh3"
      }
    },
    {
      "cell_type": "markdown",
      "source": [
        "Answer Here :    \n",
        "this allows the shareholders to understand and control the prices in these areas by adjusting the pricing strategies focus on better marketing these areas"
      ],
      "metadata": {
        "id": "_WtzZ_hCYuh4"
      }
    },
    {
      "cell_type": "markdown",
      "source": [
        "## **5. Solution to Business Objective**"
      ],
      "metadata": {
        "id": "JcMwzZxoAimU"
      }
    },
    {
      "cell_type": "markdown",
      "source": [
        "#### What do you suggest the client to achieve Business Objective ?\n",
        "Explain Briefly."
      ],
      "metadata": {
        "id": "8G2x9gOozGDZ"
      }
    },
    {
      "cell_type": "markdown",
      "source": [
        "Answer Here :                                   \n",
        "i suggest the client to ,\n",
        "\n",
        "1. **Optimize Neighborhood Pricing**:\n",
        "   - Modify prices based on neighborhood-demand correlation.\n",
        "   - Increase rates for popular areas.\n",
        "   - Adjust pricing for various room types accordingly.\n",
        "\n",
        "2. **Enhance Room Types**:\n",
        "   - Analyze nights stayed vs. room types.\n",
        "   - Identify high-demand options.\n",
        "   - Expand offerings (private rooms, entire homes) based on demand.\n",
        "\n",
        "3. **Target High-End Markets**:\n",
        "   - Focus marketing on top 10 high-priced neighborhoods.\n",
        "   - Tailor campaigns for premium customers.\n",
        "   - Provide specialized services to attract and retain high-end clients."
      ],
      "metadata": {
        "id": "pASKb0qOza21"
      }
    },
    {
      "cell_type": "markdown",
      "source": [
        "# **Conclusion**"
      ],
      "metadata": {
        "id": "gCX9965dhzqZ"
      }
    },
    {
      "cell_type": "markdown",
      "source": [
        "In conclusion, this project has provided valuable insights to help the client improve their business and achieve their goals. By analyzing the dataset, we have identified popular neighborhoods, customer preferences for room types, pricing trends, and correlations between different factors.\n",
        "\n",
        "Based on these findings, our recommendations to the client are to adjust pricing based on neighborhood demand, expand room types to meet customer preferences, target high-end customers in popular neighborhoods, and take advantage of seasonal demand.\n",
        "\n",
        "To succeed, the client should focus on enhancing the customer experience, monitoring competitors, and exploring opportunities for expansion. By implementing these recommendations, they can optimize pricing, attract their target customers, and drive business growth."
      ],
      "metadata": {
        "id": "Fjb1IsQkh3yE"
      }
    },
    {
      "cell_type": "markdown",
      "source": [
        "### ***Hurrah! You have successfully completed your EDA Capstone Project !!!***"
      ],
      "metadata": {
        "id": "gIfDvo9L0UH2"
      }
    },
    {
      "cell_type": "code",
      "source": [
        "#saving the cleaned data set for vizualisation on tableau\n",
        "\n",
        "df_ready.to_excel('/content/drive/MyDrive/forage data/df_ready.xlsx',index=False)\n",
        "\n"
      ],
      "metadata": {
        "id": "pO05TCOFncKk"
      },
      "execution_count": 23,
      "outputs": []
    },
    {
      "cell_type": "markdown",
      "source": [
        "#This is the link for tableau dashboard\n",
        "https://public.tableau.com/views/AirbnbEDADashboard/Dashboard1?:language=en-US&publish=yes&:display_count=n&:origin=viz_share_link"
      ],
      "metadata": {
        "id": "-8YkWg0nP_rA"
      }
    },
    {
      "cell_type": "code",
      "source": [],
      "metadata": {
        "id": "_b0LQB0GoV8f"
      },
      "execution_count": 23,
      "outputs": []
    }
  ]
}